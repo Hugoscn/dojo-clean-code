{
  "nbformat": 4,
  "nbformat_minor": 0,
  "metadata": {
    "accelerator": "GPU",
    "celltoolbar": "Edit Metadata",
    "colab": {
      "provenance": [],
      "include_colab_link": true
    },
    "kernelspec": {
      "display_name": "Python 3",
      "language": "python",
      "name": "python3"
    },
    "language_info": {
      "codemirror_mode": {
        "name": "ipython",
        "version": 3
      },
      "file_extension": ".py",
      "mimetype": "text/x-python",
      "name": "python",
      "nbconvert_exporter": "python",
      "pygments_lexer": "ipython3",
      "version": "3.7.10"
    },
    "toc": {
      "nav_menu": {},
      "number_sections": true,
      "sideBar": true,
      "skip_h1_title": false,
      "toc_cell": false,
      "toc_position": {},
      "toc_section_display": "block",
      "toc_window_display": false
    },
    "varInspector": {
      "cols": {
        "lenName": 16,
        "lenType": 16,
        "lenVar": 40
      },
      "kernels_config": {
        "python": {
          "delete_cmd_postfix": "",
          "delete_cmd_prefix": "del ",
          "library": "var_list.py",
          "varRefreshCmd": "print(var_dic_list())"
        },
        "r": {
          "delete_cmd_postfix": ") ",
          "delete_cmd_prefix": "rm(",
          "library": "var_list.r",
          "varRefreshCmd": "cat(var_dic_list()) "
        }
      },
      "types_to_exclude": [
        "module",
        "function",
        "builtin_function_or_method",
        "instance",
        "_Feature"
      ],
      "window_display": false
    },
    "widgets": {
      "application/vnd.jupyter.widget-state+json": {
        "e4416a8d12c04a91ab59b34bbe11a04d": {
          "model_module": "@jupyter-widgets/controls",
          "model_name": "HBoxModel",
          "model_module_version": "1.5.0",
          "state": {
            "_dom_classes": [],
            "_model_module": "@jupyter-widgets/controls",
            "_model_module_version": "1.5.0",
            "_model_name": "HBoxModel",
            "_view_count": null,
            "_view_module": "@jupyter-widgets/controls",
            "_view_module_version": "1.5.0",
            "_view_name": "HBoxView",
            "box_style": "",
            "children": [
              "IPY_MODEL_5aabbc4ba1c743abaa894d7d50615bc9",
              "IPY_MODEL_dacd5c7ee1e84708870f281e99750f0f",
              "IPY_MODEL_02f69769fe594971813ec93a225aac47"
            ],
            "layout": "IPY_MODEL_90c3651c5c3043a3b12245ccfcfaeb7f"
          }
        },
        "5aabbc4ba1c743abaa894d7d50615bc9": {
          "model_module": "@jupyter-widgets/controls",
          "model_name": "HTMLModel",
          "model_module_version": "1.5.0",
          "state": {
            "_dom_classes": [],
            "_model_module": "@jupyter-widgets/controls",
            "_model_module_version": "1.5.0",
            "_model_name": "HTMLModel",
            "_view_count": null,
            "_view_module": "@jupyter-widgets/controls",
            "_view_module_version": "1.5.0",
            "_view_name": "HTMLView",
            "description": "",
            "description_tooltip": null,
            "layout": "IPY_MODEL_ad1463c04aac4cfeba8e822a5660e9a9",
            "placeholder": "​",
            "style": "IPY_MODEL_a9bf2c5453364d5f91909b7e510b77a4",
            "value": "100%"
          }
        },
        "dacd5c7ee1e84708870f281e99750f0f": {
          "model_module": "@jupyter-widgets/controls",
          "model_name": "FloatProgressModel",
          "model_module_version": "1.5.0",
          "state": {
            "_dom_classes": [],
            "_model_module": "@jupyter-widgets/controls",
            "_model_module_version": "1.5.0",
            "_model_name": "FloatProgressModel",
            "_view_count": null,
            "_view_module": "@jupyter-widgets/controls",
            "_view_module_version": "1.5.0",
            "_view_name": "ProgressView",
            "bar_style": "success",
            "description": "",
            "description_tooltip": null,
            "layout": "IPY_MODEL_21753af3d7664da59998108422ee701f",
            "max": 170498071,
            "min": 0,
            "orientation": "horizontal",
            "style": "IPY_MODEL_c23944aaa006404ba2a5e6a43c04671b",
            "value": 170498071
          }
        },
        "02f69769fe594971813ec93a225aac47": {
          "model_module": "@jupyter-widgets/controls",
          "model_name": "HTMLModel",
          "model_module_version": "1.5.0",
          "state": {
            "_dom_classes": [],
            "_model_module": "@jupyter-widgets/controls",
            "_model_module_version": "1.5.0",
            "_model_name": "HTMLModel",
            "_view_count": null,
            "_view_module": "@jupyter-widgets/controls",
            "_view_module_version": "1.5.0",
            "_view_name": "HTMLView",
            "description": "",
            "description_tooltip": null,
            "layout": "IPY_MODEL_1bde5807fb25471cb5d7528f5dd1dbc2",
            "placeholder": "​",
            "style": "IPY_MODEL_130191da31ac491395f7c99105bfc1dd",
            "value": " 170498071/170498071 [00:05&lt;00:00, 32305773.00it/s]"
          }
        },
        "90c3651c5c3043a3b12245ccfcfaeb7f": {
          "model_module": "@jupyter-widgets/base",
          "model_name": "LayoutModel",
          "model_module_version": "1.2.0",
          "state": {
            "_model_module": "@jupyter-widgets/base",
            "_model_module_version": "1.2.0",
            "_model_name": "LayoutModel",
            "_view_count": null,
            "_view_module": "@jupyter-widgets/base",
            "_view_module_version": "1.2.0",
            "_view_name": "LayoutView",
            "align_content": null,
            "align_items": null,
            "align_self": null,
            "border": null,
            "bottom": null,
            "display": null,
            "flex": null,
            "flex_flow": null,
            "grid_area": null,
            "grid_auto_columns": null,
            "grid_auto_flow": null,
            "grid_auto_rows": null,
            "grid_column": null,
            "grid_gap": null,
            "grid_row": null,
            "grid_template_areas": null,
            "grid_template_columns": null,
            "grid_template_rows": null,
            "height": null,
            "justify_content": null,
            "justify_items": null,
            "left": null,
            "margin": null,
            "max_height": null,
            "max_width": null,
            "min_height": null,
            "min_width": null,
            "object_fit": null,
            "object_position": null,
            "order": null,
            "overflow": null,
            "overflow_x": null,
            "overflow_y": null,
            "padding": null,
            "right": null,
            "top": null,
            "visibility": null,
            "width": null
          }
        },
        "ad1463c04aac4cfeba8e822a5660e9a9": {
          "model_module": "@jupyter-widgets/base",
          "model_name": "LayoutModel",
          "model_module_version": "1.2.0",
          "state": {
            "_model_module": "@jupyter-widgets/base",
            "_model_module_version": "1.2.0",
            "_model_name": "LayoutModel",
            "_view_count": null,
            "_view_module": "@jupyter-widgets/base",
            "_view_module_version": "1.2.0",
            "_view_name": "LayoutView",
            "align_content": null,
            "align_items": null,
            "align_self": null,
            "border": null,
            "bottom": null,
            "display": null,
            "flex": null,
            "flex_flow": null,
            "grid_area": null,
            "grid_auto_columns": null,
            "grid_auto_flow": null,
            "grid_auto_rows": null,
            "grid_column": null,
            "grid_gap": null,
            "grid_row": null,
            "grid_template_areas": null,
            "grid_template_columns": null,
            "grid_template_rows": null,
            "height": null,
            "justify_content": null,
            "justify_items": null,
            "left": null,
            "margin": null,
            "max_height": null,
            "max_width": null,
            "min_height": null,
            "min_width": null,
            "object_fit": null,
            "object_position": null,
            "order": null,
            "overflow": null,
            "overflow_x": null,
            "overflow_y": null,
            "padding": null,
            "right": null,
            "top": null,
            "visibility": null,
            "width": null
          }
        },
        "a9bf2c5453364d5f91909b7e510b77a4": {
          "model_module": "@jupyter-widgets/controls",
          "model_name": "DescriptionStyleModel",
          "model_module_version": "1.5.0",
          "state": {
            "_model_module": "@jupyter-widgets/controls",
            "_model_module_version": "1.5.0",
            "_model_name": "DescriptionStyleModel",
            "_view_count": null,
            "_view_module": "@jupyter-widgets/base",
            "_view_module_version": "1.2.0",
            "_view_name": "StyleView",
            "description_width": ""
          }
        },
        "21753af3d7664da59998108422ee701f": {
          "model_module": "@jupyter-widgets/base",
          "model_name": "LayoutModel",
          "model_module_version": "1.2.0",
          "state": {
            "_model_module": "@jupyter-widgets/base",
            "_model_module_version": "1.2.0",
            "_model_name": "LayoutModel",
            "_view_count": null,
            "_view_module": "@jupyter-widgets/base",
            "_view_module_version": "1.2.0",
            "_view_name": "LayoutView",
            "align_content": null,
            "align_items": null,
            "align_self": null,
            "border": null,
            "bottom": null,
            "display": null,
            "flex": null,
            "flex_flow": null,
            "grid_area": null,
            "grid_auto_columns": null,
            "grid_auto_flow": null,
            "grid_auto_rows": null,
            "grid_column": null,
            "grid_gap": null,
            "grid_row": null,
            "grid_template_areas": null,
            "grid_template_columns": null,
            "grid_template_rows": null,
            "height": null,
            "justify_content": null,
            "justify_items": null,
            "left": null,
            "margin": null,
            "max_height": null,
            "max_width": null,
            "min_height": null,
            "min_width": null,
            "object_fit": null,
            "object_position": null,
            "order": null,
            "overflow": null,
            "overflow_x": null,
            "overflow_y": null,
            "padding": null,
            "right": null,
            "top": null,
            "visibility": null,
            "width": null
          }
        },
        "c23944aaa006404ba2a5e6a43c04671b": {
          "model_module": "@jupyter-widgets/controls",
          "model_name": "ProgressStyleModel",
          "model_module_version": "1.5.0",
          "state": {
            "_model_module": "@jupyter-widgets/controls",
            "_model_module_version": "1.5.0",
            "_model_name": "ProgressStyleModel",
            "_view_count": null,
            "_view_module": "@jupyter-widgets/base",
            "_view_module_version": "1.2.0",
            "_view_name": "StyleView",
            "bar_color": null,
            "description_width": ""
          }
        },
        "1bde5807fb25471cb5d7528f5dd1dbc2": {
          "model_module": "@jupyter-widgets/base",
          "model_name": "LayoutModel",
          "model_module_version": "1.2.0",
          "state": {
            "_model_module": "@jupyter-widgets/base",
            "_model_module_version": "1.2.0",
            "_model_name": "LayoutModel",
            "_view_count": null,
            "_view_module": "@jupyter-widgets/base",
            "_view_module_version": "1.2.0",
            "_view_name": "LayoutView",
            "align_content": null,
            "align_items": null,
            "align_self": null,
            "border": null,
            "bottom": null,
            "display": null,
            "flex": null,
            "flex_flow": null,
            "grid_area": null,
            "grid_auto_columns": null,
            "grid_auto_flow": null,
            "grid_auto_rows": null,
            "grid_column": null,
            "grid_gap": null,
            "grid_row": null,
            "grid_template_areas": null,
            "grid_template_columns": null,
            "grid_template_rows": null,
            "height": null,
            "justify_content": null,
            "justify_items": null,
            "left": null,
            "margin": null,
            "max_height": null,
            "max_width": null,
            "min_height": null,
            "min_width": null,
            "object_fit": null,
            "object_position": null,
            "order": null,
            "overflow": null,
            "overflow_x": null,
            "overflow_y": null,
            "padding": null,
            "right": null,
            "top": null,
            "visibility": null,
            "width": null
          }
        },
        "130191da31ac491395f7c99105bfc1dd": {
          "model_module": "@jupyter-widgets/controls",
          "model_name": "DescriptionStyleModel",
          "model_module_version": "1.5.0",
          "state": {
            "_model_module": "@jupyter-widgets/controls",
            "_model_module_version": "1.5.0",
            "_model_name": "DescriptionStyleModel",
            "_view_count": null,
            "_view_module": "@jupyter-widgets/base",
            "_view_module_version": "1.2.0",
            "_view_name": "StyleView",
            "description_width": ""
          }
        },
        "42b8a9100b5040d58281d46594990334": {
          "model_module": "@jupyter-widgets/controls",
          "model_name": "HBoxModel",
          "model_module_version": "1.5.0",
          "state": {
            "_dom_classes": [],
            "_model_module": "@jupyter-widgets/controls",
            "_model_module_version": "1.5.0",
            "_model_name": "HBoxModel",
            "_view_count": null,
            "_view_module": "@jupyter-widgets/controls",
            "_view_module_version": "1.5.0",
            "_view_name": "HBoxView",
            "box_style": "",
            "children": [
              "IPY_MODEL_e09f16e461a54337b93fa6e54125707a",
              "IPY_MODEL_633a3bdbbba2478b90bb9b2ddd8829e0",
              "IPY_MODEL_82c25e8ee129453488c16eaac6a61ee9"
            ],
            "layout": "IPY_MODEL_edaa9ef0307f4f98a4f87330ca431242"
          }
        },
        "e09f16e461a54337b93fa6e54125707a": {
          "model_module": "@jupyter-widgets/controls",
          "model_name": "HTMLModel",
          "model_module_version": "1.5.0",
          "state": {
            "_dom_classes": [],
            "_model_module": "@jupyter-widgets/controls",
            "_model_module_version": "1.5.0",
            "_model_name": "HTMLModel",
            "_view_count": null,
            "_view_module": "@jupyter-widgets/controls",
            "_view_module_version": "1.5.0",
            "_view_name": "HTMLView",
            "description": "",
            "description_tooltip": null,
            "layout": "IPY_MODEL_b46f0aa095f546f0849ee13246a10f40",
            "placeholder": "​",
            "style": "IPY_MODEL_1b632becdb10469a8a7215150339d7be",
            "value": "100%"
          }
        },
        "633a3bdbbba2478b90bb9b2ddd8829e0": {
          "model_module": "@jupyter-widgets/controls",
          "model_name": "FloatProgressModel",
          "model_module_version": "1.5.0",
          "state": {
            "_dom_classes": [],
            "_model_module": "@jupyter-widgets/controls",
            "_model_module_version": "1.5.0",
            "_model_name": "FloatProgressModel",
            "_view_count": null,
            "_view_module": "@jupyter-widgets/controls",
            "_view_module_version": "1.5.0",
            "_view_name": "ProgressView",
            "bar_style": "success",
            "description": "",
            "description_tooltip": null,
            "layout": "IPY_MODEL_67a7f14a95af4fd6946cb01aa1f6112c",
            "max": 170498071,
            "min": 0,
            "orientation": "horizontal",
            "style": "IPY_MODEL_0c1382e56f134cfc8157a59e4952aa31",
            "value": 170498071
          }
        },
        "82c25e8ee129453488c16eaac6a61ee9": {
          "model_module": "@jupyter-widgets/controls",
          "model_name": "HTMLModel",
          "model_module_version": "1.5.0",
          "state": {
            "_dom_classes": [],
            "_model_module": "@jupyter-widgets/controls",
            "_model_module_version": "1.5.0",
            "_model_name": "HTMLModel",
            "_view_count": null,
            "_view_module": "@jupyter-widgets/controls",
            "_view_module_version": "1.5.0",
            "_view_name": "HTMLView",
            "description": "",
            "description_tooltip": null,
            "layout": "IPY_MODEL_6cc19b3abcf849609a8c6a15bd7d7664",
            "placeholder": "​",
            "style": "IPY_MODEL_1216803ca5e448919bb637c57fb44915",
            "value": " 170498071/170498071 [00:05&lt;00:00, 32583925.22it/s]"
          }
        },
        "edaa9ef0307f4f98a4f87330ca431242": {
          "model_module": "@jupyter-widgets/base",
          "model_name": "LayoutModel",
          "model_module_version": "1.2.0",
          "state": {
            "_model_module": "@jupyter-widgets/base",
            "_model_module_version": "1.2.0",
            "_model_name": "LayoutModel",
            "_view_count": null,
            "_view_module": "@jupyter-widgets/base",
            "_view_module_version": "1.2.0",
            "_view_name": "LayoutView",
            "align_content": null,
            "align_items": null,
            "align_self": null,
            "border": null,
            "bottom": null,
            "display": null,
            "flex": null,
            "flex_flow": null,
            "grid_area": null,
            "grid_auto_columns": null,
            "grid_auto_flow": null,
            "grid_auto_rows": null,
            "grid_column": null,
            "grid_gap": null,
            "grid_row": null,
            "grid_template_areas": null,
            "grid_template_columns": null,
            "grid_template_rows": null,
            "height": null,
            "justify_content": null,
            "justify_items": null,
            "left": null,
            "margin": null,
            "max_height": null,
            "max_width": null,
            "min_height": null,
            "min_width": null,
            "object_fit": null,
            "object_position": null,
            "order": null,
            "overflow": null,
            "overflow_x": null,
            "overflow_y": null,
            "padding": null,
            "right": null,
            "top": null,
            "visibility": null,
            "width": null
          }
        },
        "b46f0aa095f546f0849ee13246a10f40": {
          "model_module": "@jupyter-widgets/base",
          "model_name": "LayoutModel",
          "model_module_version": "1.2.0",
          "state": {
            "_model_module": "@jupyter-widgets/base",
            "_model_module_version": "1.2.0",
            "_model_name": "LayoutModel",
            "_view_count": null,
            "_view_module": "@jupyter-widgets/base",
            "_view_module_version": "1.2.0",
            "_view_name": "LayoutView",
            "align_content": null,
            "align_items": null,
            "align_self": null,
            "border": null,
            "bottom": null,
            "display": null,
            "flex": null,
            "flex_flow": null,
            "grid_area": null,
            "grid_auto_columns": null,
            "grid_auto_flow": null,
            "grid_auto_rows": null,
            "grid_column": null,
            "grid_gap": null,
            "grid_row": null,
            "grid_template_areas": null,
            "grid_template_columns": null,
            "grid_template_rows": null,
            "height": null,
            "justify_content": null,
            "justify_items": null,
            "left": null,
            "margin": null,
            "max_height": null,
            "max_width": null,
            "min_height": null,
            "min_width": null,
            "object_fit": null,
            "object_position": null,
            "order": null,
            "overflow": null,
            "overflow_x": null,
            "overflow_y": null,
            "padding": null,
            "right": null,
            "top": null,
            "visibility": null,
            "width": null
          }
        },
        "1b632becdb10469a8a7215150339d7be": {
          "model_module": "@jupyter-widgets/controls",
          "model_name": "DescriptionStyleModel",
          "model_module_version": "1.5.0",
          "state": {
            "_model_module": "@jupyter-widgets/controls",
            "_model_module_version": "1.5.0",
            "_model_name": "DescriptionStyleModel",
            "_view_count": null,
            "_view_module": "@jupyter-widgets/base",
            "_view_module_version": "1.2.0",
            "_view_name": "StyleView",
            "description_width": ""
          }
        },
        "67a7f14a95af4fd6946cb01aa1f6112c": {
          "model_module": "@jupyter-widgets/base",
          "model_name": "LayoutModel",
          "model_module_version": "1.2.0",
          "state": {
            "_model_module": "@jupyter-widgets/base",
            "_model_module_version": "1.2.0",
            "_model_name": "LayoutModel",
            "_view_count": null,
            "_view_module": "@jupyter-widgets/base",
            "_view_module_version": "1.2.0",
            "_view_name": "LayoutView",
            "align_content": null,
            "align_items": null,
            "align_self": null,
            "border": null,
            "bottom": null,
            "display": null,
            "flex": null,
            "flex_flow": null,
            "grid_area": null,
            "grid_auto_columns": null,
            "grid_auto_flow": null,
            "grid_auto_rows": null,
            "grid_column": null,
            "grid_gap": null,
            "grid_row": null,
            "grid_template_areas": null,
            "grid_template_columns": null,
            "grid_template_rows": null,
            "height": null,
            "justify_content": null,
            "justify_items": null,
            "left": null,
            "margin": null,
            "max_height": null,
            "max_width": null,
            "min_height": null,
            "min_width": null,
            "object_fit": null,
            "object_position": null,
            "order": null,
            "overflow": null,
            "overflow_x": null,
            "overflow_y": null,
            "padding": null,
            "right": null,
            "top": null,
            "visibility": null,
            "width": null
          }
        },
        "0c1382e56f134cfc8157a59e4952aa31": {
          "model_module": "@jupyter-widgets/controls",
          "model_name": "ProgressStyleModel",
          "model_module_version": "1.5.0",
          "state": {
            "_model_module": "@jupyter-widgets/controls",
            "_model_module_version": "1.5.0",
            "_model_name": "ProgressStyleModel",
            "_view_count": null,
            "_view_module": "@jupyter-widgets/base",
            "_view_module_version": "1.2.0",
            "_view_name": "StyleView",
            "bar_color": null,
            "description_width": ""
          }
        },
        "6cc19b3abcf849609a8c6a15bd7d7664": {
          "model_module": "@jupyter-widgets/base",
          "model_name": "LayoutModel",
          "model_module_version": "1.2.0",
          "state": {
            "_model_module": "@jupyter-widgets/base",
            "_model_module_version": "1.2.0",
            "_model_name": "LayoutModel",
            "_view_count": null,
            "_view_module": "@jupyter-widgets/base",
            "_view_module_version": "1.2.0",
            "_view_name": "LayoutView",
            "align_content": null,
            "align_items": null,
            "align_self": null,
            "border": null,
            "bottom": null,
            "display": null,
            "flex": null,
            "flex_flow": null,
            "grid_area": null,
            "grid_auto_columns": null,
            "grid_auto_flow": null,
            "grid_auto_rows": null,
            "grid_column": null,
            "grid_gap": null,
            "grid_row": null,
            "grid_template_areas": null,
            "grid_template_columns": null,
            "grid_template_rows": null,
            "height": null,
            "justify_content": null,
            "justify_items": null,
            "left": null,
            "margin": null,
            "max_height": null,
            "max_width": null,
            "min_height": null,
            "min_width": null,
            "object_fit": null,
            "object_position": null,
            "order": null,
            "overflow": null,
            "overflow_x": null,
            "overflow_y": null,
            "padding": null,
            "right": null,
            "top": null,
            "visibility": null,
            "width": null
          }
        },
        "1216803ca5e448919bb637c57fb44915": {
          "model_module": "@jupyter-widgets/controls",
          "model_name": "DescriptionStyleModel",
          "model_module_version": "1.5.0",
          "state": {
            "_model_module": "@jupyter-widgets/controls",
            "_model_module_version": "1.5.0",
            "_model_name": "DescriptionStyleModel",
            "_view_count": null,
            "_view_module": "@jupyter-widgets/base",
            "_view_module_version": "1.2.0",
            "_view_name": "StyleView",
            "description_width": ""
          }
        }
      }
    }
  },
  "cells": [
    {
      "cell_type": "markdown",
      "metadata": {
        "id": "view-in-github",
        "colab_type": "text"
      },
      "source": [
        "<a href=\"https://colab.research.google.com/github/Hugoscn/dojo-clean-code/blob/master/Copie_de_tp2_nn_torch.ipynb\" target=\"_parent\"><img src=\"https://colab.research.google.com/assets/colab-badge.svg\" alt=\"Open In Colab\"/></a>"
      ]
    },
    {
      "cell_type": "markdown",
      "metadata": {
        "id": "gD1b5qzdASUM",
        "tags": [
          "pdf-title"
        ]
      },
      "source": [
        "# TP2 - Neural Networks with PyTorch"
      ]
    },
    {
      "cell_type": "markdown",
      "metadata": {
        "id": "5xBhwBOkASUV",
        "tags": [
          "pdf-ignore"
        ]
      },
      "source": [
        "## Prerequisites\n",
        "\n",
        "#### 1. What is PyTorch?\n",
        "\n",
        "PyTorch is a system for executing dynamic computational graphs over Tensor objects that behave similarly as numpy ndarray. It comes with a powerful automatic differentiation engine that removes the need for manual back-propagation.\n",
        "\n",
        "#### 2. Why?\n",
        "\n",
        "* Our code will now run on GPUs! Much faster training due to parallelisation of Tensors operations. When using a framework like PyTorch or TensorFlow you can harness the power of the GPU for your own custom neural network architectures without having to write CUDA code directly (which is beyond the scope of this class).\n",
        "* We want you to be ready to use one of these frameworks for your project so you can experiment more efficiently than if you were writing every feature you want to use by hand.\n",
        "* We want you to stand on the shoulders of giants! TensorFlow and PyTorch are both excellent frameworks that will make your lives a lot easier, and now that you understand their guts, you are free to use them :)\n",
        "* We want you to be exposed to the sort of deep learning code you might run into in academia or industry.\n",
        "\n",
        "#### 2'. Useful links\n",
        "\n",
        "* Pytorch documentation https://pytorch.org/docs/stable/index.html\n",
        "* Basic Pytorch tutorial https://pytorch.org/tutorials/beginner/basics/intro.html\n"
      ]
    },
    {
      "cell_type": "markdown",
      "metadata": {
        "id": "oCoPt5nuASUl",
        "tags": [
          "pdf-ignore"
        ]
      },
      "source": [
        "#### 3. GPU and Colab\n",
        "\n",
        "You have an option to **use GPU by setting the flag to True below**. It is not necessary to use GPU for this assignment. Note that if your computer does not have CUDA enabled, `torch.cuda.is_available()` will return False and this notebook will fallback to CPU mode.\n",
        "\n",
        "The global variables `dtype` and `device` will control the data types throughout this assignment.\n",
        "\n",
        "You need to manually switch to a GPU device. You can do this by clicking `Exécution -> Modifier le type d'exécution` and selecting `GPU` under `Accélérateur matèriel`. Note that you have to rerun the cells from the top since the kernel gets restarted upon switching runtimes."
      ]
    },
    {
      "cell_type": "code",
      "metadata": {
        "colab": {
          "base_uri": "https://localhost:8080/"
        },
        "id": "ksk95v1MASUn",
        "tags": [
          "pdf-ignore-input"
        ],
        "outputId": "e1299b7c-ada0-4004-b031-c5a259afe07f"
      },
      "source": [
        "import torch\n",
        "\n",
        "USE_GPU = True\n",
        "dtype = torch.float32 # we will be using float throughout this tutorial\n",
        "device = torch.device('cuda') if (USE_GPU and torch.cuda.is_available()) else torch.device('cpu')\n",
        "\n",
        "# Constant to control how frequently we print train loss\n",
        "print_every = 100\n",
        "print('using device:', device)"
      ],
      "execution_count": null,
      "outputs": [
        {
          "output_type": "stream",
          "name": "stdout",
          "text": [
            "using device: cuda\n"
          ]
        }
      ]
    },
    {
      "cell_type": "markdown",
      "metadata": {
        "id": "tJqh_fxOASUZ"
      },
      "source": [
        "# Table of Contents\n",
        "\n",
        "This assignment has 5 parts. You will learn PyTorch on **three different levels of abstraction**, which will help you understand it better and prepare you for the final project.\n",
        "\n",
        "1. Part I. Preparation: we will use CIFAR-10 dataset.\n",
        "2. Part II. Barebones PyTorch: **Abstraction level 1**, we will work directly with the lowest-level PyTorch Tensors.\n",
        "3. Part III. PyTorch Module API: **Abstraction level 2**, we will use `nn.Module` to define arbitrary neural network architecture.\n",
        "4. Part IV. PyTorch Sequential API: **Abstraction level 3**, we will use `nn.Sequential` to define a linear feed-forward network very conveniently.\n",
        "5. Part V. CIFAR-10 open-ended challenge: please implement your own network to get as high accuracy as possible on CIFAR-10. You can experiment with any layer, optimizer, hyperparameters or other advanced features."
      ]
    },
    {
      "cell_type": "markdown",
      "metadata": {
        "id": "GE1mxBDBASUc"
      },
      "source": [
        "# Part I. Preparation\n",
        "\n",
        "In this section, we will load and preprocess the data used. First, we load the CIFAR-10 dataset. This might take a couple minutes the first time you do it, but the files should stay cached after that.\n",
        "\n",
        "The following code allows you first to visualize the data:"
      ]
    },
    {
      "cell_type": "code",
      "metadata": {
        "id": "BBBXwqS5ASUe",
        "tags": [
          "pdf-ignore"
        ],
        "colab": {
          "base_uri": "https://localhost:8080/",
          "height": 272,
          "referenced_widgets": [
            "e4416a8d12c04a91ab59b34bbe11a04d",
            "5aabbc4ba1c743abaa894d7d50615bc9",
            "dacd5c7ee1e84708870f281e99750f0f",
            "02f69769fe594971813ec93a225aac47",
            "90c3651c5c3043a3b12245ccfcfaeb7f",
            "ad1463c04aac4cfeba8e822a5660e9a9",
            "a9bf2c5453364d5f91909b7e510b77a4",
            "21753af3d7664da59998108422ee701f",
            "c23944aaa006404ba2a5e6a43c04671b",
            "1bde5807fb25471cb5d7528f5dd1dbc2",
            "130191da31ac491395f7c99105bfc1dd"
          ]
        },
        "outputId": "6002e359-b2ef-4900-db93-0ad2f9722faa"
      },
      "source": [
        "# Some imports\n",
        "from matplotlib import pyplot as plt\n",
        "import torch\n",
        "import torch.nn as nn\n",
        "import torch.optim as optim\n",
        "from torch.utils.data import DataLoader\n",
        "import pathlib\n",
        "from torch.utils.data import sampler\n",
        "import torchvision.datasets as dset\n",
        "import torchvision.transforms as T\n",
        "import numpy as np\n",
        "\n",
        "cifar10_train = dset.CIFAR10('datasets', train=True, download=True, transform=None)\n",
        "\n",
        "fig, ax = plt.subplots(2, 10, figsize=(20, 4))\n",
        "for k in range(20):\n",
        "    img, label = cifar10_train[k]\n",
        "    class_name = cifar10_train.classes[label]\n",
        "    ax[k//10][k%10].imshow(img)\n",
        "    ax[k//10][k%10].set_title(class_name)\n",
        "    ax[k//10][k%10].axis('off')"
      ],
      "execution_count": null,
      "outputs": [
        {
          "output_type": "stream",
          "name": "stdout",
          "text": [
            "Downloading https://www.cs.toronto.edu/~kriz/cifar-10-python.tar.gz to datasets/cifar-10-python.tar.gz\n"
          ]
        },
        {
          "output_type": "display_data",
          "data": {
            "text/plain": [
              "  0%|          | 0/170498071 [00:00<?, ?it/s]"
            ],
            "application/vnd.jupyter.widget-view+json": {
              "version_major": 2,
              "version_minor": 0,
              "model_id": "e4416a8d12c04a91ab59b34bbe11a04d"
            }
          },
          "metadata": {}
        },
        {
          "output_type": "stream",
          "name": "stdout",
          "text": [
            "Extracting datasets/cifar-10-python.tar.gz to datasets\n"
          ]
        },
        {
          "output_type": "display_data",
          "data": {
            "text/plain": [
              "<Figure size 1440x288 with 20 Axes>"
            ],
            "image/png": "[encoded data removed]"
          },
          "metadata": {
            "needs_background": "light"
          }
        }
      ]
    },
    {
      "cell_type": "markdown",
      "metadata": {
        "id": "9s64qFDbziO9"
      },
      "source": [
        "As in any machine learning problem, it is better to have the same order of magnitude for each coordinate of the input. In the case of natural images, the standard procedure is to standardize along the color channel dimensions.\n",
        "\n",
        "**Q1.** Write the function `get_mu_std` which computes the mean and standard deviation on the full dataset. Check that your function gives `mu = [0.4914, 0.4822, 0.4465]` and `std = [0.2470, 0.2435, 0.2616]`. Directly use these values if you were not able to compute them.\n",
        "\n",
        "*Hint 1: In order to avoid memory issues, the best practice is to compute running estimates of mean and std when parsing the dataset. Such an algorithm can be found here* https://en.wikipedia.org/wiki/Algorithms_for_calculating_variance\n",
        "\n",
        "\n",
        "*Hint 2: when iterating through the dataset with the code above, img objects are PIL images, you first need to convert them to numpy arrays with* `np.asarray` *to perform basic algebric operations.*"
      ]
    },
    {
      "cell_type": "code",
      "metadata": {
        "id": "lRDbR82CASUg",
        "colab": {
          "base_uri": "https://localhost:8080/"
        },
        "outputId": "a812691a-6ebf-4ed4-859f-7a8799df542e"
      },
      "source": [
        "def get_mu_std(dataset):\n",
        "    ######################################\n",
        "    # START code block: write code below\n",
        "    ######################################\n",
        "    mu, std = np.asarray([0., 0., 0.]), np.asarray([0., 0., 0.])\n",
        "\n",
        "    for image, _ in dataset:\n",
        "      image = np.asarray(image)/255\n",
        "      mu += np.sum(image,axis=(0,1)) # On parcourt toutes les images du dataset en les normalisant puis en sommant leurs coordonnées\n",
        "\n",
        "      std += np.sum(image*image,axis=(0,1)) # Ici on somme les coordonnées au carré\n",
        "\n",
        "\n",
        "\n",
        "    image, _ = dataset[0]\n",
        "    image = np.asarray(image)\n",
        "    mu = mu / (len(dataset)*len(image)*len(image[0]))\n",
        "    std = std / (len(dataset)*len(image)*len(image[0])) # Enfin on normalise en divisant par le nombre d'images leur hauteur et leur largeur\n",
        "    std = std - mu*mu\n",
        "    std = np.sqrt(std)\n",
        "\n",
        "\n",
        "    ######################################\n",
        "    # END code block\n",
        "    ######################################\n",
        "    return mu, std\n",
        "\n",
        "mu, std = get_mu_std(cifar10_train)\n",
        "print(f'Statistics per channel: mu={mu}, std={std}')"
      ],
      "execution_count": null,
      "outputs": [
        {
          "output_type": "stream",
          "name": "stdout",
          "text": [
            "Statistics per channel: mu=[0.49139968 0.48215841 0.44653091], std=[0.24703223 0.24348513 0.26158784]\n"
          ]
        }
      ]
    },
    {
      "cell_type": "markdown",
      "metadata": {
        "id": "-oRk-5LtziO_"
      },
      "source": [
        "The `torchvision.transforms` package provides tools for preprocessing data\n",
        "and for performing data augmentation; here we set up a transform to:\n",
        "1. convert PIL images into `torch.Tensor` (equivalent to the `np.array` in numpy)\n",
        "2. preprocess the data by subtracting the mean RGB value and dividing by the standard deviation of each RGB value.\n",
        "\n",
        "We set up a Dataset object for each split (train / val / test); Datasets load\n",
        "training examples one at a time, so we wrap each Dataset in a DataLoader which\n",
        "iterates through the Dataset and forms minibatches. We divide the CIFAR-10\n",
        "training set into train and val sets by passing a Sampler object to the\n",
        "DataLoader telling how it should sample from the underlying Dataset."
      ]
    },
    {
      "cell_type": "code",
      "metadata": {
        "id": "iFSdC0zIASUj",
        "tags": [
          "pdf-ignore"
        ],
        "colab": {
          "base_uri": "https://localhost:8080/",
          "height": 137,
          "referenced_widgets": [
            "42b8a9100b5040d58281d46594990334",
            "e09f16e461a54337b93fa6e54125707a",
            "633a3bdbbba2478b90bb9b2ddd8829e0",
            "82c25e8ee129453488c16eaac6a61ee9",
            "edaa9ef0307f4f98a4f87330ca431242",
            "b46f0aa095f546f0849ee13246a10f40",
            "1b632becdb10469a8a7215150339d7be",
            "67a7f14a95af4fd6946cb01aa1f6112c",
            "0c1382e56f134cfc8157a59e4952aa31",
            "6cc19b3abcf849609a8c6a15bd7d7664",
            "1216803ca5e448919bb637c57fb44915"
          ]
        },
        "outputId": "64913849-7d07-43f0-ecb9-f6652c7ce991"
      },
      "source": [
        "NUM_TRAIN = 49000\n",
        "transform = T.Compose([T.ToTensor(), T.Normalize(mu, std)])\n",
        "\n",
        "cifar10_train = dset.CIFAR10('/datasets', train=True, download=True, transform=transform)\n",
        "loader_train = DataLoader(cifar10_train, batch_size=64, sampler=sampler.SubsetRandomSampler(range(NUM_TRAIN)))\n",
        "\n",
        "cifar10_val = dset.CIFAR10('/datasets', train=True, download=True, transform=transform)\n",
        "loader_val = DataLoader(cifar10_val, batch_size=64, sampler=sampler.SubsetRandomSampler(range(NUM_TRAIN, 50000)))\n",
        "\n",
        "cifar10_test = dset.CIFAR10('/datasets', train=False, download=True, transform=transform)\n",
        "loader_test = DataLoader(cifar10_test, batch_size=64)"
      ],
      "execution_count": null,
      "outputs": [
        {
          "output_type": "stream",
          "name": "stdout",
          "text": [
            "Downloading https://www.cs.toronto.edu/~kriz/cifar-10-python.tar.gz to /datasets/cifar-10-python.tar.gz\n"
          ]
        },
        {
          "output_type": "display_data",
          "data": {
            "text/plain": [
              "  0%|          | 0/170498071 [00:00<?, ?it/s]"
            ],
            "application/vnd.jupyter.widget-view+json": {
              "version_major": 2,
              "version_minor": 0,
              "model_id": "42b8a9100b5040d58281d46594990334"
            }
          },
          "metadata": {}
        },
        {
          "output_type": "stream",
          "name": "stdout",
          "text": [
            "Extracting /datasets/cifar-10-python.tar.gz to /datasets\n",
            "Files already downloaded and verified\n",
            "Files already downloaded and verified\n"
          ]
        }
      ]
    },
    {
      "cell_type": "markdown",
      "metadata": {
        "id": "ohW1JJ08ASUo"
      },
      "source": [
        "# Part II. Discovering PyTorch basics\n",
        "\n",
        "In this section, we will manipulate basic PyTorch elements in a standard classification setting to understand the library better. We will start by building a simple fully-connected ReLU network (or Multi-Layer Perceptron, MLP) with two hidden layers. This implementation computes the forward pass using operations on PyTorch Tensors, and uses PyTorch autograd to compute gradients. It is important that you understand every line, because you will write a harder version after the example.\n",
        "\n",
        "*NB:* As a recall, the most convenient part of such library is the automatic differentiation machinery: that is we don't need to perform manual backpropagation. More specifically, when we create a PyTorch Tensor with `requires_grad=True`, then operations involving that Tensor will not just compute values; they will also build up a computational graph in the background, allowing us to easily backpropagate through the graph to compute gradients of some Tensors with respect to a downstream loss. Concretely if x is a Tensor with `x.requires_grad == True` then after backpropagation `x.grad` will be another Tensor holding the gradient of x with respect to the scalar loss at the end."
      ]
    },
    {
      "cell_type": "markdown",
      "metadata": {
        "id": "cMj2Y7YYASUp",
        "tags": [
          "pdf-ignore"
        ]
      },
      "source": [
        "## 1. Tensors and Flatten function\n",
        "\n",
        "A PyTorch Tensor is conceptionally similar to a numpy array: it is an n-dimensional grid of numbers, and like numpy PyTorch provides many functions to efficiently operate on Tensors. As a simple example, the `flatten` function below reshapes image data given a consistent shape argument. Following PyTorch's convention, image data should be stored in a Tensor of shape N x C x H x W, where:\n",
        "\n",
        "* N is the number of images\n",
        "* C is the number of channels, e.g. 3 for RGB images\n",
        "* H is the height of the images\n",
        "* W is the weight of the images\n",
        "\n",
        "This format is the only good format to represent the data when we are using classical PyTorch functions like a 2D convolution that needs spatial understanding of where the datapoints are relative to each other. When we use fully connected layers to process the image, however, we want each datapoint to be represented by a single vector. So, it is common to use a \"flatten\" operation to collapse the `C x H x W` values per representation into a single long vector. The flatten function below first reads in the N, C, H, and W values from a given batch of data, and then returns a \"view\" of that data. \"View\" is analogous to numpy's \"reshape\" method: it reshapes x's dimensions to be N x ??, where ?? is allowed to be anything (in this case, it will be C x H x W, but we don't need to specify that explicitly).\n",
        "\n",
        "*NB:* Note that this channel-first convention is typically different from other image libraries which often use the channel-last convention (H x W x C)"
      ]
    },
    {
      "cell_type": "code",
      "metadata": {
        "id": "NOH7c3NOASUq",
        "tags": [
          "pdf-ignore-input"
        ],
        "colab": {
          "base_uri": "https://localhost:8080/"
        },
        "outputId": "90af6dff-775b-4919-f89f-ec45a85fe545"
      },
      "source": [
        "def flatten(x):\n",
        "    N = x.shape[0] # read in N, C, H, W\n",
        "    return x.view(N, -1)  # \"flatten\" the C * H * W values into a single vector per image\n",
        "\n",
        "def test_flatten():\n",
        "    x = torch.arange(12).view(2, 1, 3, 2)\n",
        "    print('Before flattening: ', x)\n",
        "    print('After flattening: ', flatten(x))\n",
        "\n",
        "test_flatten()"
      ],
      "execution_count": null,
      "outputs": [
        {
          "output_type": "stream",
          "name": "stdout",
          "text": [
            "Before flattening:  tensor([[[[ 0,  1],\n",
            "          [ 2,  3],\n",
            "          [ 4,  5]]],\n",
            "\n",
            "\n",
            "        [[[ 6,  7],\n",
            "          [ 8,  9],\n",
            "          [10, 11]]]])\n",
            "After flattening:  tensor([[ 0,  1,  2,  3,  4,  5],\n",
            "        [ 6,  7,  8,  9, 10, 11]])\n"
          ]
        }
      ]
    },
    {
      "cell_type": "markdown",
      "metadata": {
        "id": "VQ5gGHfVziPB"
      },
      "source": [
        "Please read and understand the code above."
      ]
    },
    {
      "cell_type": "markdown",
      "metadata": {
        "id": "8KH5R-m8ASUq",
        "tags": [
          "pdf-ignore"
        ]
      },
      "source": [
        "## 2. Two-Layer Perceptron\n",
        "\n",
        "Similar to TP1, we will implement a 2-layer Perceptron for image classification. However, we here leverage the tools and automatic differentiation provided by the PyTorch framework.\n",
        "\n",
        "**Q2.** Implement the function `two_layer_fc` which performs the forward pass of a two-layer fully-connected ReLU network on a batch of image data. Check that it produces outputs of the right shape by running zeros through the network."
      ]
    },
    {
      "cell_type": "code",
      "metadata": {
        "id": "yeKvPZX-ASUr",
        "tags": [
          "pdf-ignore-input"
        ],
        "colab": {
          "base_uri": "https://localhost:8080/"
        },
        "outputId": "255313f0-15e5-48ca-d576-a1989cea344b"
      },
      "source": [
        "import torch.nn.functional as F  # useful stateless functions\n",
        "\n",
        "def two_layer_fc(x, params):\n",
        "    \"\"\"\n",
        "    Inputs:\n",
        "    - x: A PyTorch Tensor of shape (N, d1, ..., dM) representing a batch of data,\n",
        "    - params: A list [w1, w2] of PyTorch Tensors giving the weights of the network.\n",
        "    w1 has shape (d1 + ... + dM, H) and w2 has shape (H, C).\n",
        "\n",
        "    Returns:\n",
        "    - scores: A PyTorch Tensor of shape (N, C) giving classification scores for\n",
        "    the input data x.\n",
        "    \"\"\"\n",
        "    w1, w2 = params\n",
        "    ######################################\n",
        "    # START code block: write code below\n",
        "    ######################################\n",
        "\n",
        "    x = flatten(x) # on applatit le tenseur\n",
        "    res = torch.mm(x, w1) # on fait le produit de x et w1 puis on applique une ReLU\n",
        "    ReLU = torch.nn.ReLU()\n",
        "    res = ReLU(res)\n",
        "    res = torch.mm(res, w2) # enfin on fait le produit de x et w2\n",
        "\n",
        "\n",
        "    ######################################\n",
        "    # END code block\n",
        "    ######################################\n",
        "    return res\n",
        "\n",
        "def test_two_layer_fc():\n",
        "    hidden_layer_size = 42\n",
        "    x = torch.zeros((64, 50), dtype=dtype)  # minibatch size 64, feature dimension 50\n",
        "    w1 = torch.zeros((50, hidden_layer_size), dtype=dtype)\n",
        "    w2 = torch.zeros((hidden_layer_size, 10), dtype=dtype)\n",
        "    scores = two_layer_fc(x, [w1, w2])\n",
        "    print(scores.size())  # you should see [64, 10]\n",
        "\n",
        "test_two_layer_fc()"
      ],
      "execution_count": null,
      "outputs": [
        {
          "output_type": "stream",
          "name": "stdout",
          "text": [
            "torch.Size([64, 10])\n"
          ]
        }
      ]
    },
    {
      "cell_type": "markdown",
      "metadata": {
        "id": "28GoOIWIASUr"
      },
      "source": [
        "#### Important note\n",
        "\n",
        "There is **no softmax activation** in the last layer of the network. Thus, it outputs real values, yet we have seen that the cross entropy loss - the standard loss for classification - expects inputs interpreted as probabilities (i.e. in [0,1] and sum to 1). This is because PyTorch's cross entropy loss performs a softmax activation for you, and by bundling that step in makes computation more efficient."
      ]
    },
    {
      "cell_type": "markdown",
      "metadata": {
        "id": "61cspnYzASUr"
      },
      "source": [
        "## 3. Three-Layer CNN\n",
        "\n",
        "In this section, you will implement a Convolutional Neural Networks (CNN) with three layers. The network should have the following architecture:\n",
        "\n",
        "1. A convolutional layer (with bias) with `channel_1` filters, each with shape `KW1 x KH1`, and zero-padding of two\n",
        "2. ReLU nonlinearity\n",
        "3. A convolutional layer (with bias) with `channel_2` filters, each with shape `KW2 x KH2`, and zero-padding of one\n",
        "4. ReLU nonlinearity\n",
        "5. Fully-connected layer with bias, producing scores for C classes.\n",
        "\n",
        "**Q3.** Complete the implementation of the function `three_layer_convnet`, which will perform the forward pass of a three-layer convolutional network. Like above, you can test your implementation by passing zeros through the network."
      ]
    },
    {
      "cell_type": "code",
      "metadata": {
        "id": "XM8YHMnRASUr",
        "colab": {
          "base_uri": "https://localhost:8080/"
        },
        "outputId": "4ff98eee-8ab9-4f37-c0df-1cae01bd8dc0"
      },
      "source": [
        "def three_layer_cnn(x, params):\n",
        "    \"\"\"\n",
        "    Inputs:\n",
        "    - x: A PyTorch Tensor of shape (N, 3, H, W) giving a minibatch of images\n",
        "    - params: A list of PyTorch Tensors giving the weights and biases for the\n",
        "      network; should contain the following:\n",
        "      - conv_w1: PyTorch Tensor of shape (channel_1, 3, KH1, KW1) giving weights\n",
        "        for the first convolutional layer\n",
        "      - conv_b1: PyTorch Tensor of shape (channel_1,) giving biases for the first\n",
        "        convolutional layer\n",
        "      - conv_w2: PyTorch Tensor of shape (channel_2, channel_1, KH2, KW2) giving\n",
        "        weights for the second convolutional layer\n",
        "      - conv_b2: PyTorch Tensor of shape (channel_2,) giving biases for the second\n",
        "        convolutional layer\n",
        "      - fc_w: PyTorch Tensor giving weights for the fully-connected layer. Can you\n",
        "        figure out what the shape should be?\n",
        "      - fc_b: PyTorch Tensor giving biases for the fully-connected layer. Can you\n",
        "        figure out what the shape should be?\n",
        "\n",
        "    Returns:\n",
        "    - scores: PyTorch Tensor of shape (N, C) giving classification scores for x\n",
        "    \"\"\"\n",
        "    conv_w1, conv_b1, conv_w2, conv_b2, fc_w, fc_b = params\n",
        "    ######################################\n",
        "    # START code block: write code below\n",
        "    ######################################\n",
        "\n",
        "\n",
        "    scores = nn.functional.conv2d(x, conv_w1, bias=conv_b1, padding=2) # on applique la premiere convolution\n",
        "    ReLU = torch.nn.ReLU()\n",
        "    scores = ReLU(scores)\n",
        "    scores = nn.functional.conv2d(scores, conv_w2, bias=conv_b2, padding=1) # apres une ReLU on applique la deuxieme convolution\n",
        "    scores = ReLU(scores)\n",
        "    scores = nn.functional.linear(flatten(scores), fc_w.t(), bias = fc_b) # enfin on applatit pour appliquer la couche linéaire\n",
        "\n",
        "\n",
        "\n",
        "\n",
        "\n",
        "\n",
        "\n",
        "    ######################################\n",
        "    # END code block\n",
        "    ######################################\n",
        "    return scores\n",
        "\n",
        "def test_three_layer_cnn():\n",
        "    x = torch.zeros((64, 3, 32, 32), dtype=dtype)  # minibatch size 64, image size [3, 32, 32]\n",
        "\n",
        "    conv_w1 = torch.zeros((6, 3, 5, 5), dtype=dtype)  # [out_channel, in_channel, kernel_H, kernel_W]\n",
        "    conv_b1 = torch.zeros((6,))  # out_channel\n",
        "    conv_w2 = torch.zeros((9, 6, 3, 3), dtype=dtype)  # [out_channel, in_channel, kernel_H, kernel_W]\n",
        "    conv_b2 = torch.zeros((9,))  # out_channel\n",
        "\n",
        "    # you must calculate the shape of the tensor after two conv layers, before the fully-connected layer\n",
        "    fc_w = torch.zeros((9 * 32 * 32, 10))\n",
        "    fc_b = torch.zeros(10)\n",
        "\n",
        "    scores = three_layer_cnn(x, [conv_w1, conv_b1, conv_w2, conv_b2, fc_w, fc_b])\n",
        "    print(scores.size())  # you should see [64, 10]\n",
        "\n",
        "test_three_layer_cnn()"
      ],
      "execution_count": null,
      "outputs": [
        {
          "output_type": "stream",
          "name": "stdout",
          "text": [
            "torch.Size([64, 10])\n"
          ]
        }
      ]
    },
    {
      "cell_type": "markdown",
      "metadata": {
        "id": "UxAjvUrbziPC"
      },
      "source": [
        "\n",
        "\n",
        "*Hint*: use http://pytorch.org/docs/stable/nn.html#torch.nn.functional.conv2d and pay attention to the shapes of convolutional filters!"
      ]
    },
    {
      "cell_type": "markdown",
      "metadata": {
        "id": "sIHn5muqASUs"
      },
      "source": [
        "## 4. Weights initialization\n",
        "\n",
        "As seen during the course, the initialization of the weights of the neural networks plays a key role for faster and better convergence. Let's write a couple utility methods to initialize the weight matrices for our models.\n",
        "\n",
        "- `zero_weight` initializes a weight tensor with all zeros (e.g. for biais parameters) given a shape\n",
        "- `random_weight` initialized a weight tensor with the Kaiming initialization method described in [1] given a shape\n",
        "\n",
        "[1] He et al, *Delving Deep into Rectifiers: Surpassing Human-Level Performance on ImageNet Classification*, ICCV 2015, https://arxiv.org/abs/1502.01852"
      ]
    },
    {
      "cell_type": "code",
      "metadata": {
        "id": "KqU2ctcgASUs",
        "tags": [
          "pdf-ignore-input"
        ]
      },
      "source": [
        "def random_weight(shape):\n",
        "    \"\"\"\n",
        "    Create random Tensors for weights; setting requires_grad=True means that we\n",
        "    want to compute gradients for these Tensors during the backward pass.\n",
        "    We use Kaiming normalization: sqrt(2 / fan_in)\n",
        "    \"\"\"\n",
        "    if len(shape) == 2:  # FC weight\n",
        "        fan_in = shape[0]\n",
        "    else:\n",
        "        fan_in = np.prod(shape[1:]) # conv weight [out_channel, in_channel, kH, kW]\n",
        "    w = torch.randn(shape, device=device, dtype=dtype) * np.sqrt(2. / fan_in)\n",
        "    w.requires_grad = True\n",
        "    return w\n",
        "\n",
        "def zero_weight(shape):\n",
        "    return torch.zeros(shape, device=device, dtype=dtype, requires_grad=True)"
      ],
      "execution_count": null,
      "outputs": []
    },
    {
      "cell_type": "markdown",
      "metadata": {
        "id": "Tf7b7QXDziPD"
      },
      "source": [
        "Please read and understand the code above."
      ]
    },
    {
      "cell_type": "markdown",
      "metadata": {
        "id": "scS5bMwfASUs"
      },
      "source": [
        "## 5. Compute accuracy\n",
        "\n",
        "When training the model, we will need a function to compute the accuracy of our model on both training or validation sets. When checking accuracy we don't need to compute any gradients; as a result we don't need PyTorch to build a computational graph for us when we compute scores. To prevent a graph from being built we scope our computation under a `torch.no_grad()` context manager.\n",
        "\n",
        "**Q4.** Modify `compute_accuracy` function that outputs the classification score given a `loader`, a `model_fn` and associated `params`."
      ]
    },
    {
      "cell_type": "code",
      "metadata": {
        "id": "lPq7ikqzASUs",
        "tags": [
          "pdf-ignore-input"
        ],
        "colab": {
          "base_uri": "https://localhost:8080/"
        },
        "outputId": "8e8e2e41-a640-4947-c624-3ab074bcad4b"
      },
      "source": [
        "def compute_accuracy(loader, model_fn, params):\n",
        "    \"\"\"\n",
        "    Computes the accuracy of a classification model defined by `model_fn` and `params`\n",
        "    on the data in `loader`\n",
        "\n",
        "    Inputs:\n",
        "    - loader: A DataLoader for the data split we want to check\n",
        "    - model_fn: A function that performs the forward pass of the model,\n",
        "      with the signature scores = model_fn(x, params)\n",
        "    - params: List of PyTorch Tensors giving parameters of the model\n",
        "\n",
        "    Returns: Nothing, but prints the accuracy of the model\n",
        "    \"\"\"\n",
        "    split = 'val' if loader.dataset.train else 'test'\n",
        "    print('Checking accuracy on the %s set' % split)\n",
        "    num_correct, num_samples = 0, 0\n",
        "    with torch.no_grad():\n",
        "        for x, y in loader:\n",
        "            x = x.to(device=device, dtype=dtype)\n",
        "            y = y.to(device=device, dtype=torch.int64)\n",
        "\n",
        "            ######################################\n",
        "            # START code block: write code below\n",
        "            ######################################\n",
        "\n",
        "            num_samples += x.shape[0] # on a ajouté un certain nombre d'échantillons égal à la taille de x\n",
        "            scores = model_fn(x, params) # on calcule les scores de x\n",
        "            num_correct += (y==torch.argmax(scores, dim=1)).sum() # enfin on compte le nombre de prédictions justes\n",
        "\n",
        "\n",
        "\n",
        "            ######################################\n",
        "            # END code block\n",
        "            ######################################\n",
        "\n",
        "        acc = float(num_correct) / num_samples\n",
        "        print('Got %d / %d correct (%.2f%%)' % (num_correct, num_samples, 100 * acc))\n",
        "\n",
        "def test_compute_accuracy():\n",
        "    \"\"\"Dummy test of compute_accuracy\"\"\"\n",
        "    hidden_layer_size = 50\n",
        "    w1 = torch.zeros((3 * 32 * 32, hidden_layer_size), device=device)\n",
        "    w2 = torch.zeros((hidden_layer_size, 10), device=device)\n",
        "    params= w1, w2\n",
        "    acc = compute_accuracy(loader_val, two_layer_fc, params)\n",
        "\n",
        "test_compute_accuracy()"
      ],
      "execution_count": null,
      "outputs": [
        {
          "output_type": "stream",
          "name": "stdout",
          "text": [
            "Checking accuracy on the val set\n",
            "Got 87 / 1000 correct (8.70%)\n"
          ]
        }
      ]
    },
    {
      "cell_type": "markdown",
      "metadata": {
        "id": "nV-dSxV2ziPE"
      },
      "source": [
        "By running the code above, the accuracy should be in the order of magnitude of 1 / 10 (number of classes).\n",
        "\n",
        "*Remark:* the accuracy is classicaly defined as the ratio of the number of correct predictions (True Positive) among the total number of samples"
      ]
    },
    {
      "cell_type": "markdown",
      "metadata": {
        "id": "UjqxBexvASUt"
      },
      "source": [
        "## 6. Training Loop\n",
        "We can now set up a basic training loop to train our network. We will train the model using stochastic gradient descent without momentum. We will use `torch.functional.cross_entropy` to compute the loss; you can [read about it here](http://pytorch.org/docs/stable/nn.html#cross-entropy).\n",
        "\n",
        "**Q5.** Modify the function `train` which takes as input the neural network function, a list of initialized parameters, and learning rate."
      ]
    },
    {
      "cell_type": "code",
      "metadata": {
        "id": "10YB6vxaASUt",
        "tags": [
          "pdf-ignore-input"
        ]
      },
      "source": [
        "def train(model_fn, params, learning_rate):\n",
        "    \"\"\"\n",
        "    Inputs:\n",
        "    - model_fn: A Python function that performs the forward pass of the model.\n",
        "      It should have the signature scores = model_fn(x, params) where x is a\n",
        "      PyTorch Tensor of image data, params is a list of PyTorch Tensors giving\n",
        "      model weights, and scores is a PyTorch Tensor of shape (N, C) giving\n",
        "      scores for the elements in x.\n",
        "    - params: List of PyTorch Tensors giving weights for the model\n",
        "    - learning_rate: Python scalar giving the learning rate to use for SGD\n",
        "\n",
        "    Returns: the loss values at specific iterations\n",
        "    \"\"\"\n",
        "    losses = {}\n",
        "    for t, (x, y) in enumerate(loader_train):\n",
        "        # Move the data to the proper device (GPU or CPU)\n",
        "        x = x.to(device=device, dtype=dtype)\n",
        "        y = y.to(device=device, dtype=torch.long)\n",
        "\n",
        "        # Forward pass: compute scores and loss\n",
        "        scores = model_fn(x, params)\n",
        "        loss = F.cross_entropy(scores, y)\n",
        "\n",
        "        # Backward pass: PyTorch figures out which Tensors in the computational\n",
        "        # graph has requires_grad=True and uses backpropagation to compute the\n",
        "        # gradient of the loss with respect to these Tensors, and stores the\n",
        "        # gradients in the .grad attribute of each Tensor.\n",
        "        loss.backward()\n",
        "\n",
        "        # Update parameters. We don't want to backpropagate through the\n",
        "        # parameter updates, so we scope the updates under a torch.no_grad()\n",
        "        # context manager to prevent a computational graph from being built.\n",
        "        with torch.no_grad():\n",
        "            ######################################\n",
        "            # START code block: write code below\n",
        "            ######################################\n",
        "\n",
        "            # Iterate over parameters and update them with SGD\n",
        "            for p in params:\n",
        "              p.data -= learning_rate*p.grad # on parcourt les paramètres et on pratique la SGD\n",
        "\n",
        "            ######################################\n",
        "            # END code block\n",
        "            ######################################\n",
        "\n",
        "            # We manually zero the gradients after running the backward pass\n",
        "            for p in params:\n",
        "                p.grad.zero_()\n",
        "\n",
        "        if t % print_every == 0:\n",
        "            print('Iteration %d, loss = %.4f' % (t, loss.item()))\n",
        "            losses[t] = loss.item()\n",
        "            compute_accuracy(loader_val, model_fn, params)\n",
        "            print()\n",
        "\n",
        "    return losses"
      ],
      "execution_count": null,
      "outputs": []
    },
    {
      "cell_type": "markdown",
      "metadata": {
        "id": "W7QlhQVJASUu"
      },
      "source": [
        "## 7. Train a Two-Layer Perceptron\n",
        "Now we are ready to run the training loop. We need to explicitly allocate tensors for the fully connected weights, `w1` and `w2`. Each minibatch of CIFAR has 64 examples, so the tensor shape is `[64, 3, 32, 32]`.  After flattening, `x` shape should be `[64, 3 * 32 * 32]`. This will be the size of the first dimension of `w1`.\n",
        "The second dimension of `w1` is the hidden layer size, which will also be the first dimension of `w2`. Finally, the output of the network is a 10-dimensional vector that represents the probability distribution over 10 classes."
      ]
    },
    {
      "cell_type": "code",
      "metadata": {
        "id": "cHYfBTZ-ASUu",
        "colab": {
          "base_uri": "https://localhost:8080/"
        },
        "outputId": "44d5e4e1-4af0-4d8e-8877-ca1c4150986f"
      },
      "source": [
        "hidden_layer_size = 4000\n",
        "learning_rate = 1e-2\n",
        "\n",
        "w1 = random_weight((3 * 32 * 32, hidden_layer_size))\n",
        "w2 = random_weight((hidden_layer_size, 10))\n",
        "\n",
        "losses = train(two_layer_fc, [w1, w2], learning_rate)"
      ],
      "execution_count": null,
      "outputs": [
        {
          "output_type": "stream",
          "name": "stdout",
          "text": [
            "Iteration 0, loss = 2.9741\n",
            "Checking accuracy on the val set\n",
            "Got 138 / 1000 correct (13.80%)\n",
            "\n",
            "Iteration 100, loss = 1.8757\n",
            "Checking accuracy on the val set\n",
            "Got 362 / 1000 correct (36.20%)\n",
            "\n",
            "Iteration 200, loss = 1.9487\n",
            "Checking accuracy on the val set\n",
            "Got 381 / 1000 correct (38.10%)\n",
            "\n",
            "Iteration 300, loss = 1.6462\n",
            "Checking accuracy on the val set\n",
            "Got 405 / 1000 correct (40.50%)\n",
            "\n",
            "Iteration 400, loss = 2.1282\n",
            "Checking accuracy on the val set\n",
            "Got 394 / 1000 correct (39.40%)\n",
            "\n",
            "Iteration 500, loss = 1.7946\n",
            "Checking accuracy on the val set\n",
            "Got 437 / 1000 correct (43.70%)\n",
            "\n",
            "Iteration 600, loss = 1.9640\n",
            "Checking accuracy on the val set\n",
            "Got 440 / 1000 correct (44.00%)\n",
            "\n",
            "Iteration 700, loss = 1.8181\n",
            "Checking accuracy on the val set\n",
            "Got 432 / 1000 correct (43.20%)\n",
            "\n"
          ]
        }
      ]
    },
    {
      "cell_type": "markdown",
      "metadata": {
        "id": "aG4IjUqiziPF"
      },
      "source": [
        "\n",
        "You don't need to tune any hyperparameters but you should see accuracies above 40% after training for one epoch. Run the cell below to check that the loss is decreasing w.r.t. the number of iterations"
      ]
    },
    {
      "cell_type": "code",
      "metadata": {
        "id": "QW6xegl4ziPH",
        "colab": {
          "base_uri": "https://localhost:8080/",
          "height": 374
        },
        "outputId": "5b94ec25-57f5-47e2-844d-126abc69db12"
      },
      "source": [
        "fig, ax = plt.subplots(figsize=(11, 6))\n",
        "x = sorted(losses.keys())\n",
        "y = [losses[e] for e in x]\n",
        "ax.plot(x, y, label='loss')\n",
        "ax.legend()\n",
        "fig.show()"
      ],
      "execution_count": null,
      "outputs": [
        {
          "output_type": "display_data",
          "data": {
            "text/plain": [
              "<Figure size 792x432 with 1 Axes>"
            ],
            "image/png": "[encoded data removed]"
          },
          "metadata": {
            "needs_background": "light"
          }
        }
      ]
    },
    {
      "cell_type": "markdown",
      "metadata": {
        "id": "gF9mofntASUu"
      },
      "source": [
        "### 8. Training a ConvNet\n",
        "\n",
        "In the below you should use the functions defined above to train a three-layer convolutional network on CIFAR. The network should have the following architecture:\n",
        "\n",
        "1. Convolutional layer (with bias) with 32 5x5 filters, with zero-padding of 2\n",
        "2. ReLU\n",
        "3. Convolutional layer (with bias) with 16 3x3 filters, with zero-padding of 1\n",
        "4. ReLU\n",
        "5. Fully-connected layer (with bias) to compute scores for 10 classes\n",
        "\n",
        "**Q6.** Initialize your weight matrices using the `random_weight` function defined above, and initialize your bias vectors using the `zero_weight` function above and run the code below."
      ]
    },
    {
      "cell_type": "code",
      "metadata": {
        "id": "barebones_accuracy",
        "colab": {
          "base_uri": "https://localhost:8080/"
        },
        "outputId": "da49bad5-b8a0-414d-bceb-b6214860227d"
      },
      "source": [
        "learning_rate = 3e-3\n",
        "\n",
        "channel_1 = 32\n",
        "channel_2 = 16\n",
        "\n",
        "######################################\n",
        "# START code block: write code below\n",
        "######################################\n",
        "\n",
        "conv_w1 = random_weight((channel_1 , 3, 5, 5 ))\n",
        "conv_b1 = zero_weight((channel_1))\n",
        "conv_w2 = random_weight((channel_2, channel_1, 3, 3))\n",
        "conv_b2 = zero_weight((channel_2))\n",
        "fc_w = random_weight((channel_2 * 32 * 32, 10))\n",
        "fc_b = zero_weight((10))\n",
        "\n",
        "# on initialise aléatoirement tous les poids en adaptant les dimensions\n",
        "\n",
        "######################################\n",
        "# END code block\n",
        "######################################\n",
        "\n",
        "params = [conv_w1, conv_b1, conv_w2, conv_b2, fc_w, fc_b]\n",
        "losses = train(three_layer_cnn, params, learning_rate)"
      ],
      "execution_count": null,
      "outputs": [
        {
          "output_type": "stream",
          "name": "stdout",
          "text": [
            "Iteration 0, loss = 3.5960\n",
            "Checking accuracy on the val set\n",
            "Got 115 / 1000 correct (11.50%)\n",
            "\n",
            "Iteration 100, loss = 1.8065\n",
            "Checking accuracy on the val set\n",
            "Got 359 / 1000 correct (35.90%)\n",
            "\n",
            "Iteration 200, loss = 1.8645\n",
            "Checking accuracy on the val set\n",
            "Got 394 / 1000 correct (39.40%)\n",
            "\n",
            "Iteration 300, loss = 1.6681\n",
            "Checking accuracy on the val set\n",
            "Got 403 / 1000 correct (40.30%)\n",
            "\n",
            "Iteration 400, loss = 1.7385\n",
            "Checking accuracy on the val set\n",
            "Got 413 / 1000 correct (41.30%)\n",
            "\n",
            "Iteration 500, loss = 1.7052\n",
            "Checking accuracy on the val set\n",
            "Got 446 / 1000 correct (44.60%)\n",
            "\n",
            "Iteration 600, loss = 1.6010\n",
            "Checking accuracy on the val set\n",
            "Got 463 / 1000 correct (46.30%)\n",
            "\n",
            "Iteration 700, loss = 1.4889\n",
            "Checking accuracy on the val set\n",
            "Got 456 / 1000 correct (45.60%)\n",
            "\n"
          ]
        }
      ]
    },
    {
      "cell_type": "markdown",
      "metadata": {
        "id": "uTmi1v3wziPI"
      },
      "source": [
        "\n",
        "You don't need to tune any hyperparameters, but if everything works correctly you should achieve an accuracy above 42% after one epoch. Run the cell below to check that the loss is decreasing w.r.t. the number of iterations"
      ]
    },
    {
      "cell_type": "code",
      "metadata": {
        "id": "NWeUX695ziPI",
        "colab": {
          "base_uri": "https://localhost:8080/",
          "height": 374
        },
        "outputId": "3aa116a6-79a1-41b9-8649-f2b3fa3a29f4"
      },
      "source": [
        "fig, ax = plt.subplots(figsize=(11, 6))\n",
        "x = sorted(losses.keys())\n",
        "y = [losses[e] for e in x]\n",
        "ax.plot(x, y, label='loss')\n",
        "ax.legend()\n",
        "fig.show()"
      ],
      "execution_count": null,
      "outputs": [
        {
          "output_type": "display_data",
          "data": {
            "text/plain": [
              "<Figure size 792x432 with 1 Axes>"
            ],
            "image/png": "[encoded data removed]"
          },
          "metadata": {
            "needs_background": "light"
          }
        }
      ]
    },
    {
      "cell_type": "markdown",
      "metadata": {
        "id": "FUSp_DmxASUu"
      },
      "source": [
        "# Part III. PyTorch Module API\n",
        "\n",
        "Barebone PyTorch requires that we track all the parameter tensors by hand. This is fine for small networks with a few tensors, but it would be extremely inconvenient and error-prone to track tens or hundreds of tensors in larger networks.\n",
        "\n",
        "PyTorch provides the `nn.Module` API for you to define arbitrary network architectures, while tracking every learnable parameters for you. In Part II, we implemented SGD ourselves. PyTorch also provides the `torch.optim` package that implements all the common optimizers, such as RMSProp, Adagrad, and Adam. You can refer to the [doc](http://pytorch.org/docs/master/optim.html) for the exact specifications of each optimizer.\n",
        "\n",
        "To use the Module API, follow the steps below:\n",
        "\n",
        "1. Subclass `nn.Module`. Give your network class an intuitive name like `TwoLayerFC`.\n",
        "\n",
        "2. In the constructor `__init__()`, define all the layers you need as class attributes. Layer objects like `nn.Linear` and `nn.Conv2d` are themselves `nn.Module` subclasses and contain learnable parameters, so that you don't have to instantiate the raw tensors yourself. `nn.Module` will track these internal parameters for you. Refer to the [doc](http://pytorch.org/docs/master/nn.html) to learn more about the dozens of builtin layers and see their source code to understand how they are initialized. **Warning**: don't forget to call the `super().__init__()` first!\n",
        "\n",
        "3. In the `forward()` method, define the *connectivity* of your network. You should use the attributes defined in `__init__` as function calls that take tensor as input and output the \"transformed\" tensor. Do *not* create any new layers with learnable parameters in `forward()`! All of them must be declared upfront in `__init__`.\n",
        "\n",
        "\n",
        "After you define your Module subclass, you can instantiate it as an object and call it just like the NN forward function in part II.\n",
        "\n",
        "### 1. Two-Layer Network\n",
        "Here is a concrete example of a 2-layer fully connected network:"
      ]
    },
    {
      "cell_type": "code",
      "metadata": {
        "id": "3WKphZJMASUv",
        "colab": {
          "base_uri": "https://localhost:8080/"
        },
        "outputId": "112d2e9b-b74c-4920-81f9-c85ace3503c0"
      },
      "source": [
        "class TwoLayerFC(nn.Module):\n",
        "    def __init__(self, input_size, hidden_size, num_classes):\n",
        "        super().__init__()\n",
        "        # assign layer objects to class attributes\n",
        "        self.fc1 = nn.Linear(input_size, hidden_size)\n",
        "        # nn.init package contains convenient initialization methods\n",
        "        # http://pytorch.org/docs/master/nn.html#torch-nn-init\n",
        "        nn.init.kaiming_normal_(self.fc1.weight)\n",
        "        self.fc2 = nn.Linear(hidden_size, num_classes)\n",
        "        nn.init.kaiming_normal_(self.fc2.weight)\n",
        "\n",
        "    def forward(self, x):\n",
        "        # forward always defines connectivity\n",
        "        x = flatten(x)\n",
        "        scores = self.fc2(F.relu(self.fc1(x)))\n",
        "        return scores\n",
        "\n",
        "def test_TwoLayerFC():\n",
        "    input_size = 50\n",
        "    x = torch.zeros((64, input_size), dtype=dtype)  # minibatch size 64, feature dimension 50\n",
        "    model = TwoLayerFC(input_size, 42, 10)\n",
        "    scores = model(x)\n",
        "    print(scores.size())  # you should see [64, 10]\n",
        "\n",
        "test_TwoLayerFC()"
      ],
      "execution_count": null,
      "outputs": [
        {
          "output_type": "stream",
          "name": "stdout",
          "text": [
            "torch.Size([64, 10])\n"
          ]
        }
      ]
    },
    {
      "cell_type": "markdown",
      "metadata": {
        "id": "yUtZFMzDziPJ"
      },
      "source": [
        "You don't have to implement anything here, please read and understand the code above. If you have questions, you can ask on Slack."
      ]
    },
    {
      "cell_type": "markdown",
      "metadata": {
        "id": "i23wt2JNASUv"
      },
      "source": [
        "### 2. Three-Layer ConvNet\n",
        "It's your turn to implement a 3-layer ConvNet followed by a fully connected layer. The network architecture should be the same as in Part II:\n",
        "\n",
        "1. Convolutional layer with `channel_1` 5x5 filters with zero-padding of 2\n",
        "2. ReLU\n",
        "3. Convolutional layer with `channel_2` 3x3 filters with zero-padding of 1\n",
        "4. ReLU\n",
        "5. Fully-connected layer to `num_classes` classes\n",
        "\n",
        "\n",
        "**Q7.** Implement the three-layer ConvNet where the weight matrices of the model are initialized using the Kaiming normal initialization method. The `test_ThreeLayerConvNet` function will run your implementation; it should print `(64, 10)` for the shape of the output scores."
      ]
    },
    {
      "cell_type": "code",
      "metadata": {
        "id": "module_output_shape",
        "colab": {
          "base_uri": "https://localhost:8080/"
        },
        "outputId": "4096870c-2e54-4f18-caba-6832d74932b1"
      },
      "source": [
        "class ThreeLayerConvNet(nn.Module):\n",
        "    def __init__(self, in_channel, channel_1, channel_2, num_classes):\n",
        "        super().__init__()\n",
        "        ########################################################################\n",
        "        # TODO: Set up the layers you need for a three-layer ConvNet with the  #\n",
        "        # architecture defined above.                                          #\n",
        "        ########################################################################\n",
        "        # *****START OF YOUR CODE (DO NOT DELETE/MODIFY THIS LINE)*****\n",
        "\n",
        "\n",
        "        self.conv1=nn.Conv2d(in_channel,channel_1,5,padding=2) # on défninit les convolutions puis on initialise les poids\n",
        "        nn.init.kaiming_normal_(self.conv1.weight)\n",
        "\n",
        "        self.conv2=nn.Conv2d(channel_1,channel_2,3,padding=1)\n",
        "        nn.init.kaiming_normal_(self.conv1.weight)\n",
        "\n",
        "        self.fc = nn.Linear(channel_2 * 32 * 32, num_classes) # on définit la couche linéaire\n",
        "        nn.init.kaiming_normal_(self.fc.weight)\n",
        "\n",
        "\n",
        "\n",
        "        # *****END OF YOUR CODE (DO NOT DELETE/MODIFY THIS LINE)*****\n",
        "        ########################################################################\n",
        "        #                          END OF YOUR CODE                            #\n",
        "        ########################################################################\n",
        "\n",
        "    def forward(self, x):\n",
        "        scores = None\n",
        "        ########################################################################\n",
        "        # TODO: Implement the forward function for a 3-layer ConvNet. you      #\n",
        "        # should use the layers you defined in __init__ and specify the        #\n",
        "        # connectivity of those layers in forward()                            #\n",
        "        ########################################################################\n",
        "        # *****START OF YOUR CODE (DO NOT DELETE/MODIFY THIS LINE)*****\n",
        "\n",
        "\n",
        "        scores = self.fc(flatten(F.relu(self.conv2(F.relu(self.conv1(x))))))\n",
        "\n",
        "        # ici on applique dans l'ordre toutes les fonctions en applatissant quand on passe à la couche linéaire\n",
        "\n",
        "\n",
        "        # *****END OF YOUR CODE (DO NOT DELETE/MODIFY THIS LINE)*****\n",
        "        ########################################################################\n",
        "        #                             END OF YOUR CODE                         #\n",
        "        ########################################################################\n",
        "        return scores\n",
        "\n",
        "\n",
        "def test_ThreeLayerConvNet():\n",
        "    x = torch.zeros((64, 3, 32, 32), dtype=dtype)  # minibatch size 64, image size [3, 32, 32]\n",
        "    model = ThreeLayerConvNet(in_channel=3, channel_1=12, channel_2=8, num_classes=10)\n",
        "    scores = model(x)\n",
        "    print(scores.size())  # you should see [64, 10]\n",
        "\n",
        "test_ThreeLayerConvNet()"
      ],
      "execution_count": null,
      "outputs": [
        {
          "output_type": "stream",
          "name": "stdout",
          "text": [
            "torch.Size([64, 10])\n"
          ]
        }
      ]
    },
    {
      "cell_type": "markdown",
      "metadata": {
        "id": "XCKW1rCEziPJ"
      },
      "source": [
        "*Hint*: You can find more information about convolutional modules at http://pytorch.org/docs/stable/nn.html#conv2d"
      ]
    },
    {
      "cell_type": "markdown",
      "metadata": {
        "id": "McDZj6BBASUv"
      },
      "source": [
        "### 3. Check Accuracy\n",
        "Given the validation or test set, we can check the classification accuracy of a neural network.\n",
        "\n",
        "**Q8.** Implement the `check_accuracy` function that computes the score for a given `loader` and `model`. This version is slightly different from the one in part II. You don't manually pass in the parameters anymore."
      ]
    },
    {
      "cell_type": "code",
      "metadata": {
        "id": "cLFxSyU2ASUv"
      },
      "source": [
        "def check_accuracy(loader, model):\n",
        "    if loader.dataset.train:\n",
        "        print('Checking accuracy on validation set')\n",
        "    else:\n",
        "        print('Checking accuracy on test set')\n",
        "    num_correct = 0\n",
        "    num_samples = 0\n",
        "    model.eval()  # set model to evaluation mode\n",
        "    with torch.no_grad():\n",
        "        for x, y in loader:\n",
        "            x = x.to(device=device, dtype=dtype)  # move to device, e.g. GPU\n",
        "            y = y.to(device=device, dtype=torch.long)\n",
        "\n",
        "            ######################################\n",
        "            # START code block: write code below\n",
        "            ######################################\n",
        "\n",
        "            num_samples += x.shape[0] # de la même manière que dans la première fonction d'accuracy on compte le nombre de prédictions justes par rapport au nombre total\n",
        "            scores = model(x)\n",
        "            num_correct += (y==torch.argmax(scores, dim=1)).sum()\n",
        "\n",
        "            ######################################\n",
        "            # END code block\n",
        "            ######################################\n",
        "\n",
        "        acc = float(num_correct) / num_samples\n",
        "        print('Got %d / %d correct (%.2f)' % (num_correct, num_samples, 100 * acc))"
      ],
      "execution_count": null,
      "outputs": []
    },
    {
      "cell_type": "markdown",
      "metadata": {
        "id": "OUaeMD8IziPK"
      },
      "source": [
        "### 4. Validation loop\n",
        "\n",
        "**Q9.** Implement a function `run_val` which takes as input `loader`, `model` and returns the loss computed on the full data of the loader."
      ]
    },
    {
      "cell_type": "code",
      "metadata": {
        "id": "g676ej66ziPL"
      },
      "source": [
        "def run_val(loader, model):\n",
        "    model.eval()\n",
        "    loss = None\n",
        "    with torch.no_grad():\n",
        "        for x, y in loader:\n",
        "            x = x.to(device=device, dtype=dtype)  # move to device, e.g. GPU\n",
        "            y = y.to(device=device, dtype=torch.long)\n",
        "            ######################################\n",
        "            # START code block: write code below\n",
        "            ######################################\n",
        "\n",
        "            scores = model(x)\n",
        "            loss_batch = F.cross_entropy(scores, y) #pour la classification on calcule la cross_entropy loss\n",
        "            if loss is None:\n",
        "              loss = loss_batch\n",
        "            else:\n",
        "              loss += loss_batch\n",
        "\n",
        "\n",
        "            ######################################\n",
        "            # END code block\n",
        "            ######################################\n",
        "\n",
        "    return loss"
      ],
      "execution_count": null,
      "outputs": []
    },
    {
      "cell_type": "markdown",
      "metadata": {
        "id": "8HNqdAf1ASUw"
      },
      "source": [
        "### 4. Training Loop\n",
        "We also use a slightly different training loop. Rather than updating the values of the weights ourselves, we use an Optimizer object from the `torch.optim` package, which abstract the notion of an optimization algorithm and provides implementations of most of the algorithms commonly used to optimize neural networks."
      ]
    },
    {
      "cell_type": "code",
      "metadata": {
        "id": "XTKLR_dtASUw"
      },
      "source": [
        "def train_module(model, optimizer, epochs=1):\n",
        "    \"\"\"\n",
        "    Train a model on CIFAR-10 using the PyTorch Module API.\n",
        "\n",
        "    Inputs:\n",
        "    - model: A PyTorch Module giving the model to train.\n",
        "    - optimizer: An Optimizer object we will use to train the model\n",
        "    - epochs: (Optional) A Python integer giving the number of epochs to train for\n",
        "\n",
        "    Returns: the loss values at specific iterations\n",
        "    \"\"\"\n",
        "    losses = {}\n",
        "    losses_val = {}\n",
        "    model = model.to(device=device)  # move the model parameters to CPU/GPU\n",
        "    for e in range(epochs):\n",
        "        for t, (x, y) in enumerate(loader_train):\n",
        "            model.train()  # put model to training mode\n",
        "            x = x.to(device=device, dtype=dtype)  # move to device, e.g. GPU\n",
        "            y = y.to(device=device, dtype=torch.long)\n",
        "\n",
        "            scores = model(x)\n",
        "            loss = F.cross_entropy(scores, y)\n",
        "\n",
        "            # Zero out all of the gradients for the variables which the optimizer\n",
        "            # will update.\n",
        "            optimizer.zero_grad()\n",
        "\n",
        "            # This is the backwards pass: compute the gradient of the loss with\n",
        "            # respect to each  parameter of the model.\n",
        "            loss.backward()\n",
        "\n",
        "            # Actually update the parameters of the model using the gradients\n",
        "            # computed by the backwards pass.\n",
        "            optimizer.step()\n",
        "\n",
        "            if t % print_every == 0:\n",
        "                print('Iteration %d, loss = %.4f' % (t, loss.item()))\n",
        "                losses[e * len(loader_train) + t] = loss.item()\n",
        "                check_accuracy(loader_val, model)\n",
        "                print()\n",
        "\n",
        "        loss_val = run_val(loader_val, model)\n",
        "        losses_val[(e + 1) * len(loader_train)] = loss_val.item()\n",
        "\n",
        "    return losses, losses_val"
      ],
      "execution_count": null,
      "outputs": []
    },
    {
      "cell_type": "markdown",
      "metadata": {
        "id": "zYuAzdPSziPN"
      },
      "source": [
        "You don't have to do anything in the code above, please read it carefully to understand it."
      ]
    },
    {
      "cell_type": "markdown",
      "metadata": {
        "id": "9t81WuorASUx"
      },
      "source": [
        "### 5. Train a Two-Layer Network\n",
        "Now we are ready to run the training loop. In contrast to part II, we don't explicitly allocate parameter tensors anymore. Simply pass the input size, hidden layer size, and number of classes (i.e. output size) to the constructor of `TwoLayerFC`.  You also need to define an optimizer that tracks all the learnable parameters inside `TwoLayerFC`."
      ]
    },
    {
      "cell_type": "code",
      "metadata": {
        "id": "6oUk4OStASUx",
        "colab": {
          "base_uri": "https://localhost:8080/"
        },
        "outputId": "502ddad4-5234-4c87-afd9-6fd4a9e4e175"
      },
      "source": [
        "hidden_layer_size = 4000\n",
        "learning_rate = 1e-2\n",
        "model = TwoLayerFC(3 * 32 * 32, hidden_layer_size, 10)\n",
        "optimizer = optim.SGD(model.parameters(), lr=learning_rate)\n",
        "\n",
        "loss_train, loss_val = train_module(model, optimizer)\n"
      ],
      "execution_count": null,
      "outputs": [
        {
          "output_type": "stream",
          "name": "stdout",
          "text": [
            "Iteration 0, loss = 3.0041\n",
            "Checking accuracy on validation set\n",
            "Got 171 / 1000 correct (17.10)\n",
            "\n",
            "Iteration 100, loss = 1.7314\n",
            "Checking accuracy on validation set\n",
            "Got 329 / 1000 correct (32.90)\n",
            "\n",
            "Iteration 200, loss = 2.0416\n",
            "Checking accuracy on validation set\n",
            "Got 374 / 1000 correct (37.40)\n",
            "\n",
            "Iteration 300, loss = 1.8986\n",
            "Checking accuracy on validation set\n",
            "Got 375 / 1000 correct (37.50)\n",
            "\n",
            "Iteration 400, loss = 1.7453\n",
            "Checking accuracy on validation set\n",
            "Got 415 / 1000 correct (41.50)\n",
            "\n",
            "Iteration 500, loss = 1.8378\n",
            "Checking accuracy on validation set\n",
            "Got 419 / 1000 correct (41.90)\n",
            "\n",
            "Iteration 600, loss = 1.5467\n",
            "Checking accuracy on validation set\n",
            "Got 448 / 1000 correct (44.80)\n",
            "\n",
            "Iteration 700, loss = 1.7775\n",
            "Checking accuracy on validation set\n",
            "Got 453 / 1000 correct (45.30)\n",
            "\n"
          ]
        }
      ]
    },
    {
      "cell_type": "markdown",
      "metadata": {
        "id": "jW2EWLunziPO"
      },
      "source": [
        "\n",
        "You don't need to tune any hyperparameters, but you should see model accuracies above 40% after training for one epoch. Run the cell below to check that the loss is decreasing w.r.t. the number of iterations"
      ]
    },
    {
      "cell_type": "code",
      "metadata": {
        "id": "mDeTvbFuziPO",
        "colab": {
          "base_uri": "https://localhost:8080/",
          "height": 374
        },
        "outputId": "471e5a61-8ac9-4b62-e315-2f789cfb64f6"
      },
      "source": [
        "fig, ax = plt.subplots(figsize=(11, 6))\n",
        "x = sorted(loss_train.keys())\n",
        "y = [loss_train[e] for e in x]\n",
        "ax.plot(x, y, label='loss_train')\n",
        "ax.legend()\n",
        "fig.show()"
      ],
      "execution_count": null,
      "outputs": [
        {
          "output_type": "display_data",
          "data": {
            "text/plain": [
              "<Figure size 792x432 with 1 Axes>"
            ],
            "image/png": "[encoded data removed]"
          },
          "metadata": {
            "needs_background": "light"
          }
        }
      ]
    },
    {
      "cell_type": "markdown",
      "metadata": {
        "id": "9WSjbXHiASUx"
      },
      "source": [
        "### 6. Train a Three-Layer ConvNet\n",
        "You should now use the Module API to train a three-layer ConvNet on CIFAR. This should look very similar to training the two-layer network! You don't need to tune any hyperparameters, but you should achieve above above 45% after training for one epoch.\n",
        "\n",
        "**Q10.** Modify code below to instantiate and train a `ThreeLayerConvNet`. You should train the model using stochastic gradient descent without momentum. Alos, plot the train loss and the valid loss during training as well as the accuracy on the training and validation set."
      ]
    },
    {
      "cell_type": "code",
      "metadata": {
        "id": "module_accuracy",
        "colab": {
          "base_uri": "https://localhost:8080/"
        },
        "outputId": "15f6c731-68d8-4357-ee5f-99329e794715"
      },
      "source": [
        "learning_rate = 3e-3\n",
        "channel_1 = 32\n",
        "channel_2 = 16\n",
        "\n",
        "model = None\n",
        "optimizer = None\n",
        "\n",
        "################################################################################\n",
        "# TODO: Instantiate your ThreeLayerConvNet model and a corresponding optimizer #\n",
        "################################################################################\n",
        "# *****START OF YOUR CODE (DO NOT DELETE/MODIFY THIS LINE)*****\n",
        "\n",
        "model = ThreeLayerConvNet(3, channel_1, channel_2, 10) # on définit notre modèle avec la classe que l'on a codé précedemment\n",
        "optimizer = optim.SGD(model.parameters(), lr=learning_rate) # on utilise la SGD sans moment\n",
        "\n",
        "# *****END OF YOUR CODE (DO NOT DELETE/MODIFY THIS LINE)*****\n",
        "################################################################################\n",
        "#                                 END OF YOUR CODE\n",
        "################################################################################\n",
        "\n",
        "loss_train, loss_val = train_module(model, optimizer, epochs=10)"
      ],
      "execution_count": null,
      "outputs": [
        {
          "output_type": "stream",
          "name": "stdout",
          "text": [
            "Iteration 0, loss = 2.2147\n",
            "Checking accuracy on validation set\n",
            "Got 105 / 1000 correct (10.50)\n",
            "\n",
            "Iteration 100, loss = 1.9575\n",
            "Checking accuracy on validation set\n",
            "Got 325 / 1000 correct (32.50)\n",
            "\n",
            "Iteration 200, loss = 1.8557\n",
            "Checking accuracy on validation set\n",
            "Got 334 / 1000 correct (33.40)\n",
            "\n",
            "Iteration 300, loss = 1.8044\n",
            "Checking accuracy on validation set\n",
            "Got 400 / 1000 correct (40.00)\n",
            "\n",
            "Iteration 400, loss = 1.6385\n",
            "Checking accuracy on validation set\n",
            "Got 407 / 1000 correct (40.70)\n",
            "\n",
            "Iteration 500, loss = 1.5863\n",
            "Checking accuracy on validation set\n",
            "Got 438 / 1000 correct (43.80)\n",
            "\n",
            "Iteration 600, loss = 1.4616\n",
            "Checking accuracy on validation set\n",
            "Got 431 / 1000 correct (43.10)\n",
            "\n",
            "Iteration 700, loss = 1.7515\n",
            "Checking accuracy on validation set\n",
            "Got 469 / 1000 correct (46.90)\n",
            "\n",
            "Iteration 0, loss = 1.4926\n",
            "Checking accuracy on validation set\n",
            "Got 466 / 1000 correct (46.60)\n",
            "\n",
            "Iteration 100, loss = 1.6184\n",
            "Checking accuracy on validation set\n",
            "Got 455 / 1000 correct (45.50)\n",
            "\n",
            "Iteration 200, loss = 1.3073\n",
            "Checking accuracy on validation set\n",
            "Got 492 / 1000 correct (49.20)\n",
            "\n",
            "Iteration 300, loss = 1.3445\n",
            "Checking accuracy on validation set\n",
            "Got 494 / 1000 correct (49.40)\n",
            "\n",
            "Iteration 400, loss = 1.5053\n",
            "Checking accuracy on validation set\n",
            "Got 480 / 1000 correct (48.00)\n",
            "\n",
            "Iteration 500, loss = 1.4256\n",
            "Checking accuracy on validation set\n",
            "Got 501 / 1000 correct (50.10)\n",
            "\n",
            "Iteration 600, loss = 1.5487\n",
            "Checking accuracy on validation set\n",
            "Got 501 / 1000 correct (50.10)\n",
            "\n",
            "Iteration 700, loss = 1.4305\n",
            "Checking accuracy on validation set\n",
            "Got 499 / 1000 correct (49.90)\n",
            "\n",
            "Iteration 0, loss = 1.4821\n",
            "Checking accuracy on validation set\n",
            "Got 506 / 1000 correct (50.60)\n",
            "\n",
            "Iteration 100, loss = 1.2649\n",
            "Checking accuracy on validation set\n",
            "Got 530 / 1000 correct (53.00)\n",
            "\n",
            "Iteration 200, loss = 1.4376\n",
            "Checking accuracy on validation set\n",
            "Got 538 / 1000 correct (53.80)\n",
            "\n",
            "Iteration 300, loss = 1.2008\n",
            "Checking accuracy on validation set\n",
            "Got 509 / 1000 correct (50.90)\n",
            "\n",
            "Iteration 400, loss = 1.2965\n",
            "Checking accuracy on validation set\n",
            "Got 536 / 1000 correct (53.60)\n",
            "\n",
            "Iteration 500, loss = 1.3800\n",
            "Checking accuracy on validation set\n",
            "Got 532 / 1000 correct (53.20)\n",
            "\n",
            "Iteration 600, loss = 1.3707\n",
            "Checking accuracy on validation set\n",
            "Got 531 / 1000 correct (53.10)\n",
            "\n",
            "Iteration 700, loss = 1.2271\n",
            "Checking accuracy on validation set\n",
            "Got 530 / 1000 correct (53.00)\n",
            "\n",
            "Iteration 0, loss = 1.3393\n",
            "Checking accuracy on validation set\n",
            "Got 537 / 1000 correct (53.70)\n",
            "\n",
            "Iteration 100, loss = 1.2869\n",
            "Checking accuracy on validation set\n",
            "Got 540 / 1000 correct (54.00)\n",
            "\n",
            "Iteration 200, loss = 1.3297\n",
            "Checking accuracy on validation set\n",
            "Got 537 / 1000 correct (53.70)\n",
            "\n",
            "Iteration 300, loss = 1.2497\n",
            "Checking accuracy on validation set\n",
            "Got 534 / 1000 correct (53.40)\n",
            "\n",
            "Iteration 400, loss = 1.1981\n",
            "Checking accuracy on validation set\n",
            "Got 548 / 1000 correct (54.80)\n",
            "\n",
            "Iteration 500, loss = 1.3247\n",
            "Checking accuracy on validation set\n",
            "Got 544 / 1000 correct (54.40)\n",
            "\n",
            "Iteration 600, loss = 1.2303\n",
            "Checking accuracy on validation set\n",
            "Got 547 / 1000 correct (54.70)\n",
            "\n",
            "Iteration 700, loss = 1.4289\n",
            "Checking accuracy on validation set\n",
            "Got 566 / 1000 correct (56.60)\n",
            "\n",
            "Iteration 0, loss = 1.1992\n",
            "Checking accuracy on validation set\n",
            "Got 540 / 1000 correct (54.00)\n",
            "\n",
            "Iteration 100, loss = 1.2942\n",
            "Checking accuracy on validation set\n",
            "Got 549 / 1000 correct (54.90)\n",
            "\n",
            "Iteration 200, loss = 1.1238\n",
            "Checking accuracy on validation set\n",
            "Got 549 / 1000 correct (54.90)\n",
            "\n",
            "Iteration 300, loss = 1.1522\n",
            "Checking accuracy on validation set\n",
            "Got 567 / 1000 correct (56.70)\n",
            "\n",
            "Iteration 400, loss = 1.3406\n",
            "Checking accuracy on validation set\n",
            "Got 543 / 1000 correct (54.30)\n",
            "\n",
            "Iteration 500, loss = 1.2491\n",
            "Checking accuracy on validation set\n",
            "Got 572 / 1000 correct (57.20)\n",
            "\n",
            "Iteration 600, loss = 1.0720\n",
            "Checking accuracy on validation set\n",
            "Got 576 / 1000 correct (57.60)\n",
            "\n",
            "Iteration 700, loss = 1.0227\n",
            "Checking accuracy on validation set\n",
            "Got 566 / 1000 correct (56.60)\n",
            "\n",
            "Iteration 0, loss = 1.2426\n",
            "Checking accuracy on validation set\n",
            "Got 554 / 1000 correct (55.40)\n",
            "\n",
            "Iteration 100, loss = 1.3205\n",
            "Checking accuracy on validation set\n",
            "Got 567 / 1000 correct (56.70)\n",
            "\n",
            "Iteration 200, loss = 1.1369\n",
            "Checking accuracy on validation set\n",
            "Got 577 / 1000 correct (57.70)\n",
            "\n",
            "Iteration 300, loss = 1.2843\n",
            "Checking accuracy on validation set\n",
            "Got 560 / 1000 correct (56.00)\n",
            "\n",
            "Iteration 400, loss = 1.1307\n",
            "Checking accuracy on validation set\n",
            "Got 582 / 1000 correct (58.20)\n",
            "\n",
            "Iteration 500, loss = 1.3016\n",
            "Checking accuracy on validation set\n",
            "Got 547 / 1000 correct (54.70)\n",
            "\n",
            "Iteration 600, loss = 1.0321\n",
            "Checking accuracy on validation set\n",
            "Got 570 / 1000 correct (57.00)\n",
            "\n",
            "Iteration 700, loss = 1.0745\n",
            "Checking accuracy on validation set\n",
            "Got 565 / 1000 correct (56.50)\n",
            "\n",
            "Iteration 0, loss = 0.9217\n",
            "Checking accuracy on validation set\n",
            "Got 562 / 1000 correct (56.20)\n",
            "\n",
            "Iteration 100, loss = 1.2970\n",
            "Checking accuracy on validation set\n",
            "Got 580 / 1000 correct (58.00)\n",
            "\n",
            "Iteration 200, loss = 1.2818\n",
            "Checking accuracy on validation set\n",
            "Got 575 / 1000 correct (57.50)\n",
            "\n",
            "Iteration 300, loss = 1.0130\n",
            "Checking accuracy on validation set\n",
            "Got 579 / 1000 correct (57.90)\n",
            "\n",
            "Iteration 400, loss = 1.1859\n",
            "Checking accuracy on validation set\n",
            "Got 556 / 1000 correct (55.60)\n",
            "\n",
            "Iteration 500, loss = 1.2347\n",
            "Checking accuracy on validation set\n",
            "Got 586 / 1000 correct (58.60)\n",
            "\n",
            "Iteration 600, loss = 1.1821\n",
            "Checking accuracy on validation set\n",
            "Got 583 / 1000 correct (58.30)\n",
            "\n",
            "Iteration 700, loss = 0.9599\n",
            "Checking accuracy on validation set\n",
            "Got 585 / 1000 correct (58.50)\n",
            "\n",
            "Iteration 0, loss = 1.3352\n",
            "Checking accuracy on validation set\n",
            "Got 591 / 1000 correct (59.10)\n",
            "\n",
            "Iteration 100, loss = 1.4132\n",
            "Checking accuracy on validation set\n",
            "Got 594 / 1000 correct (59.40)\n",
            "\n",
            "Iteration 200, loss = 0.8481\n",
            "Checking accuracy on validation set\n",
            "Got 603 / 1000 correct (60.30)\n",
            "\n",
            "Iteration 300, loss = 1.0372\n",
            "Checking accuracy on validation set\n",
            "Got 597 / 1000 correct (59.70)\n",
            "\n",
            "Iteration 400, loss = 1.1518\n",
            "Checking accuracy on validation set\n",
            "Got 592 / 1000 correct (59.20)\n",
            "\n",
            "Iteration 500, loss = 1.2551\n",
            "Checking accuracy on validation set\n",
            "Got 596 / 1000 correct (59.60)\n",
            "\n",
            "Iteration 600, loss = 1.0388\n",
            "Checking accuracy on validation set\n",
            "Got 599 / 1000 correct (59.90)\n",
            "\n",
            "Iteration 700, loss = 1.0300\n",
            "Checking accuracy on validation set\n",
            "Got 600 / 1000 correct (60.00)\n",
            "\n",
            "Iteration 0, loss = 1.3386\n",
            "Checking accuracy on validation set\n",
            "Got 594 / 1000 correct (59.40)\n",
            "\n",
            "Iteration 100, loss = 1.0022\n",
            "Checking accuracy on validation set\n",
            "Got 613 / 1000 correct (61.30)\n",
            "\n",
            "Iteration 200, loss = 0.8194\n",
            "Checking accuracy on validation set\n",
            "Got 605 / 1000 correct (60.50)\n",
            "\n",
            "Iteration 300, loss = 1.0513\n",
            "Checking accuracy on validation set\n",
            "Got 603 / 1000 correct (60.30)\n",
            "\n",
            "Iteration 400, loss = 0.9934\n",
            "Checking accuracy on validation set\n",
            "Got 604 / 1000 correct (60.40)\n",
            "\n",
            "Iteration 500, loss = 1.2189\n",
            "Checking accuracy on validation set\n",
            "Got 609 / 1000 correct (60.90)\n",
            "\n",
            "Iteration 600, loss = 1.1394\n",
            "Checking accuracy on validation set\n",
            "Got 598 / 1000 correct (59.80)\n",
            "\n",
            "Iteration 700, loss = 1.0493\n",
            "Checking accuracy on validation set\n",
            "Got 605 / 1000 correct (60.50)\n",
            "\n",
            "Iteration 0, loss = 0.9813\n",
            "Checking accuracy on validation set\n",
            "Got 602 / 1000 correct (60.20)\n",
            "\n",
            "Iteration 100, loss = 0.9374\n",
            "Checking accuracy on validation set\n",
            "Got 614 / 1000 correct (61.40)\n",
            "\n",
            "Iteration 200, loss = 0.9409\n",
            "Checking accuracy on validation set\n",
            "Got 608 / 1000 correct (60.80)\n",
            "\n",
            "Iteration 300, loss = 0.9007\n",
            "Checking accuracy on validation set\n",
            "Got 607 / 1000 correct (60.70)\n",
            "\n",
            "Iteration 400, loss = 0.9004\n",
            "Checking accuracy on validation set\n",
            "Got 600 / 1000 correct (60.00)\n",
            "\n",
            "Iteration 500, loss = 1.2155\n",
            "Checking accuracy on validation set\n",
            "Got 614 / 1000 correct (61.40)\n",
            "\n",
            "Iteration 600, loss = 1.0807\n",
            "Checking accuracy on validation set\n",
            "Got 604 / 1000 correct (60.40)\n",
            "\n",
            "Iteration 700, loss = 0.9269\n",
            "Checking accuracy on validation set\n",
            "Got 625 / 1000 correct (62.50)\n",
            "\n"
          ]
        }
      ]
    },
    {
      "cell_type": "markdown",
      "metadata": {
        "id": "GBmo1L4XziPP"
      },
      "source": [
        "You don't need to tune any hyperparameters, but you should see model accuracies above 45% after training for one epoch. Run the cell below to check that the loss is decreasing w.r.t. the number of iterations."
      ]
    },
    {
      "cell_type": "code",
      "metadata": {
        "id": "H34bFt5gziPP",
        "colab": {
          "base_uri": "https://localhost:8080/",
          "height": 374
        },
        "outputId": "3cd2307e-cb20-4245-83a7-724b78fda59c"
      },
      "source": [
        "fig, ax = plt.subplots(figsize=(11, 6))\n",
        "x = sorted(loss_train.keys())\n",
        "y = [loss_train[e] for e in x]\n",
        "ax.plot(x, y, label='loss_train')\n",
        "x = sorted(loss_val.keys())\n",
        "y = [loss_val[e] for e in x]\n",
        "ax.plot(x, y, label='loss_val')\n",
        "ax.legend()\n",
        "fig.show()"
      ],
      "execution_count": null,
      "outputs": [
        {
          "output_type": "display_data",
          "data": {
            "text/plain": [
              "<Figure size 792x432 with 1 Axes>"
            ],
            "image/png": "[encoded data removed]"
          },
          "metadata": {
            "needs_background": "light"
          }
        }
      ]
    },
    {
      "cell_type": "markdown",
      "source": [
        "On ne peut pas bien se rendre compte avec ce graphe car la loss sur le set de validation est trop grande mais la loss sur le set de train diminue aussi"
      ],
      "metadata": {
        "id": "-ji39eA86x27"
      }
    },
    {
      "cell_type": "markdown",
      "metadata": {
        "id": "oyRwuK9HASUy"
      },
      "source": [
        "# Part IV. PyTorch Sequential API\n",
        "\n",
        "Part III introduced the PyTorch Module API, which allows you to define arbitrary learnable layers and their connectivity.\n",
        "\n",
        "For simple models like a stack of feed forward layers, you still need to go through 3 steps: subclass `nn.Module`, assign layers to class attributes in `__init__`, and call each layer one by one in `forward()`. Is there a more convenient way?\n",
        "\n",
        "Fortunately, PyTorch provides a container Module called `nn.Sequential`, which merges the above steps into one. It is not as flexible as `nn.Module`, because you cannot specify more complex topology than a feed-forward stack, but it's good enough for many use cases.\n",
        "\n",
        "### 1. Two-Layer Network\n",
        "Let's see how to rewrite our two-layer fully connected network example with `nn.Sequential`, and train it using the training loop defined above.\n",
        "\n",
        "Again, you don't need to tune any hyperparameters here, but you shoud achieve above 40% accuracy after one epoch of training."
      ]
    },
    {
      "cell_type": "code",
      "metadata": {
        "id": "oS363C4_ASUz",
        "colab": {
          "base_uri": "https://localhost:8080/"
        },
        "outputId": "f2855a6a-fa6f-4202-b453-61af83506c61"
      },
      "source": [
        "# We need to wrap `flatten` function in a module in order to stack it\n",
        "# in nn.Sequential\n",
        "class Flatten(nn.Module):\n",
        "    def forward(self, x):\n",
        "        return flatten(x)\n",
        "\n",
        "hidden_layer_size = 4000\n",
        "learning_rate = 1e-2\n",
        "\n",
        "model = nn.Sequential(\n",
        "    Flatten(),\n",
        "    nn.Linear(3 * 32 * 32, hidden_layer_size),\n",
        "    nn.ReLU(),\n",
        "    nn.Linear(hidden_layer_size, 10),\n",
        ")\n",
        "\n",
        "# you can use Nesterov momentum in optim.SGD\n",
        "optimizer = optim.SGD(model.parameters(), lr=learning_rate,\n",
        "                     momentum=0.9, nesterov=True)\n",
        "\n",
        "_ = train_module(model, optimizer)"
      ],
      "execution_count": null,
      "outputs": [
        {
          "output_type": "stream",
          "name": "stdout",
          "text": [
            "Iteration 0, loss = 2.3622\n",
            "Checking accuracy on validation set\n",
            "Got 149 / 1000 correct (14.90)\n",
            "\n",
            "Iteration 100, loss = 1.7581\n",
            "Checking accuracy on validation set\n",
            "Got 401 / 1000 correct (40.10)\n",
            "\n",
            "Iteration 200, loss = 1.6892\n",
            "Checking accuracy on validation set\n",
            "Got 435 / 1000 correct (43.50)\n",
            "\n",
            "Iteration 300, loss = 1.6598\n",
            "Checking accuracy on validation set\n",
            "Got 425 / 1000 correct (42.50)\n",
            "\n",
            "Iteration 400, loss = 1.4404\n",
            "Checking accuracy on validation set\n",
            "Got 448 / 1000 correct (44.80)\n",
            "\n",
            "Iteration 500, loss = 1.6842\n",
            "Checking accuracy on validation set\n",
            "Got 452 / 1000 correct (45.20)\n",
            "\n",
            "Iteration 600, loss = 1.5409\n",
            "Checking accuracy on validation set\n",
            "Got 452 / 1000 correct (45.20)\n",
            "\n",
            "Iteration 700, loss = 1.6360\n",
            "Checking accuracy on validation set\n",
            "Got 474 / 1000 correct (47.40)\n",
            "\n"
          ]
        }
      ]
    },
    {
      "cell_type": "markdown",
      "metadata": {
        "id": "lOZFoHEPASUz"
      },
      "source": [
        "### 2. Three-Layer ConvNet\n",
        "Here you should use `nn.Sequential` to define and train a three-layer ConvNet with the same architecture we used in Part III:\n",
        "\n",
        "1. Convolutional layer (with bias) with 32 5x5 filters, with zero-padding of 2\n",
        "2. ReLU\n",
        "3. Convolutional layer (with bias) with 16 3x3 filters, with zero-padding of 1\n",
        "4. ReLU\n",
        "5. Fully-connected layer (with bias) to compute scores for 10 classes\n",
        "\n",
        "**Q11.** Modify the code below to build a 3-layer ConvNet with the `nn.Sequential` API. You should initialize your weight matrices using the `random_weight` function defined above, and you should initialize your bias vectors using the `zero_weight` function above. You should optimize your model using stochastic gradient descent with Nesterov momentum 0.9."
      ]
    },
    {
      "cell_type": "code",
      "metadata": {
        "id": "sequential_accuracy",
        "colab": {
          "base_uri": "https://localhost:8080/"
        },
        "outputId": "66439afc-9cdf-49d1-fee1-509b8eebdea3"
      },
      "source": [
        "channel_1 = 32\n",
        "channel_2 = 16\n",
        "learning_rate = 1e-2\n",
        "\n",
        "model = None\n",
        "optimizer = None\n",
        "\n",
        "################################################################################\n",
        "# TODO: Rewrite the 3-layer ConvNet with bias from Part III with the           #\n",
        "# Sequential API.                                                              #\n",
        "################################################################################\n",
        "# *****START OF YOUR CODE (DO NOT DELETE/MODIFY THIS LINE)*****\n",
        "\n",
        "model = nn.Sequential( nn.Conv2d(3,channel_1,5,padding=2),  # on utilise sequential pour définir notre suite de classes\n",
        "                      nn.ReLU(),\n",
        "                      nn.Conv2d(channel_1,channel_2,3,padding=1),\n",
        "                      nn.ReLU(),\n",
        "                      Flatten(),\n",
        "                      nn.Linear(channel_2 * 32 * 32, 10)\n",
        ")\n",
        "\n",
        "\n",
        "optimizer = optim.SGD(model.parameters(), lr=learning_rate,\n",
        "                     momentum=0.9, nesterov=True)\n",
        "\n",
        "# *****END OF YOUR CODE (DO NOT DELETE/MODIFY THIS LINE)*****\n",
        "################################################################################\n",
        "#                                 END OF YOUR CODE\n",
        "################################################################################\n",
        "\n",
        "loss_train, loss_val = train_module(model, optimizer)"
      ],
      "execution_count": null,
      "outputs": [
        {
          "output_type": "stream",
          "name": "stdout",
          "text": [
            "Iteration 0, loss = 2.3340\n",
            "Checking accuracy on validation set\n",
            "Got 134 / 1000 correct (13.40)\n",
            "\n",
            "Iteration 100, loss = 1.6302\n",
            "Checking accuracy on validation set\n",
            "Got 438 / 1000 correct (43.80)\n",
            "\n",
            "Iteration 200, loss = 1.4282\n",
            "Checking accuracy on validation set\n",
            "Got 493 / 1000 correct (49.30)\n",
            "\n",
            "Iteration 300, loss = 1.2739\n",
            "Checking accuracy on validation set\n",
            "Got 520 / 1000 correct (52.00)\n",
            "\n",
            "Iteration 400, loss = 1.5273\n",
            "Checking accuracy on validation set\n",
            "Got 538 / 1000 correct (53.80)\n",
            "\n",
            "Iteration 500, loss = 1.4474\n",
            "Checking accuracy on validation set\n",
            "Got 549 / 1000 correct (54.90)\n",
            "\n",
            "Iteration 600, loss = 1.3351\n",
            "Checking accuracy on validation set\n",
            "Got 559 / 1000 correct (55.90)\n",
            "\n",
            "Iteration 700, loss = 1.3510\n",
            "Checking accuracy on validation set\n",
            "Got 563 / 1000 correct (56.30)\n",
            "\n"
          ]
        }
      ]
    },
    {
      "cell_type": "markdown",
      "metadata": {
        "id": "vZ8fnMtfziPR"
      },
      "source": [
        "Again, you don't need to tune any hyperparameters but you should see accuracy above 55% after one epoch of training. Check that the loss is decreasing:"
      ]
    },
    {
      "cell_type": "code",
      "metadata": {
        "id": "goPgAH9ZziPR",
        "colab": {
          "base_uri": "https://localhost:8080/",
          "height": 374
        },
        "outputId": "bbf583bf-2a92-4ab4-b173-4d9bb81a5f08"
      },
      "source": [
        "fig, ax = plt.subplots(figsize=(11, 6))\n",
        "x = sorted(loss_train.keys())\n",
        "y = [loss_train[e] for e in x]\n",
        "ax.plot(x, y, label='loss_train')\n",
        "ax.legend()\n",
        "fig.show()"
      ],
      "execution_count": null,
      "outputs": [
        {
          "output_type": "display_data",
          "data": {
            "text/plain": [
              "<Figure size 792x432 with 1 Axes>"
            ],
            "image/png": "[encoded data removed]"
          },
          "metadata": {
            "needs_background": "light"
          }
        }
      ]
    },
    {
      "cell_type": "markdown",
      "metadata": {
        "id": "4nF5LXEXASUz"
      },
      "source": [
        "# Part V. CIFAR-10 open-ended challenge\n",
        "\n",
        "In this section, you can experiment with whatever ConvNet architecture you'd like on CIFAR-10.\n",
        "\n",
        "Now it's your job to experiment with architectures, hyperparameters, loss functions, and optimizers to train a model that achieves **at least 70%** accuracy on the CIFAR-10 **validation** set within 10 epochs. You can use the check_accuracy and train functions from above. You can use either `nn.Module` or `nn.Sequential` API.\n",
        "\n",
        "Describe what you did at the end of this notebook.\n",
        "\n",
        "Here are the official API documentation for each component. One note: what we call in the class \"spatial batch norm\" is called \"BatchNorm2D\" in PyTorch.\n",
        "\n",
        "* Layers in torch.nn package: http://pytorch.org/docs/stable/nn.html\n",
        "* Activations: http://pytorch.org/docs/stable/nn.html#non-linear-activations\n",
        "* Loss functions: http://pytorch.org/docs/stable/nn.html#loss-functions\n",
        "* Optimizers: http://pytorch.org/docs/stable/optim.html\n",
        "\n",
        "\n",
        "### Things you might try:\n",
        "- **Filter size**: Above we used 5x5; would smaller filters be more efficient?\n",
        "- **Number of filters**: Above we used 32 filters. Do more or fewer do better?\n",
        "- **Pooling vs Strided Convolution**: Do you use max pooling or just stride convolutions?\n",
        "- **Batch normalization**: Try adding spatial batch normalization after convolution layers and vanilla batch normalization after affine layers. Do your networks train faster?\n",
        "- **Network architecture**: The network above has two layers of trainable parameters. Can you do better with a deep network? Good architectures to try include:\n",
        "    - [conv-relu-pool]xN -> [affine]xM -> [softmax or SVM]\n",
        "    - [conv-relu-conv-relu-pool]xN -> [affine]xM -> [softmax or SVM]\n",
        "    - [batchnorm-relu-conv]xN -> [affine]xM -> [softmax or SVM]\n",
        "- **Global Average Pooling**: Instead of flattening and then having multiple affine layers, perform convolutions until your image gets small (7x7 or so) and then perform an average pooling operation to get to a 1x1 image picture (1, 1 , Filter#), which is then reshaped into a (Filter#) vector. This is used in [Google's Inception Network](https://arxiv.org/abs/1512.00567) (See Table 1 for their architecture).\n",
        "- **Regularization**: Add l2 weight regularization, or perhaps use Dropout.\n",
        "\n",
        "### Tips for training\n",
        "For each network architecture that you try, you should tune the learning rate and other hyperparameters. When doing this there are a couple important things to keep in mind:\n",
        "\n",
        "- If the parameters are working well, you should see improvement within a few hundred iterations\n",
        "- Remember the coarse-to-fine approach for hyperparameter tuning: start by testing a large range of hyperparameters for just a few training iterations to find the combinations of parameters that are working at all.\n",
        "- Once you have found some sets of parameters that seem to work, search more finely around these parameters. You may need to train for more epochs.\n",
        "- You should use the validation set for hyperparameter search, and save your test set for evaluating your architecture on the best parameters as selected by the validation set.\n",
        "\n",
        "### Going above and beyond\n",
        "If you are feeling adventurous there are many other features you can implement to try and improve your performance. You are **not required** to implement any of these, but don't miss the fun if you have time!\n",
        "\n",
        "- Alternative optimizers: you can try Adam, Adagrad, RMSprop, etc.\n",
        "- Alternative activation functions such as leaky ReLU, parametric ReLU, ELU, or MaxOut.\n",
        "- Model ensembles\n",
        "- Data augmentation\n",
        "- New Architectures\n",
        "  - [ResNets](https://arxiv.org/abs/1512.03385) where the input from the previous layer is added to the output.\n",
        "  - [DenseNets](https://arxiv.org/abs/1608.06993) where inputs into previous layers are concatenated together.\n",
        "  - [This blog has an in-depth overview](https://chatbotslife.com/resnets-highwaynets-and-densenets-oh-my-9bb15918ee32)\n",
        "\n",
        "### Have fun and happy training!"
      ]
    },
    {
      "cell_type": "code",
      "metadata": {
        "id": "open_ended_accuracy",
        "colab": {
          "base_uri": "https://localhost:8080/",
          "height": 1000
        },
        "outputId": "d0da2c6b-3930-47d7-a45d-b11c71f4b321"
      },
      "source": [
        "################################################################################\n",
        "# TODO:                                                                        #\n",
        "# Experiment with any architectures, optimizers, and hyperparameters.          #\n",
        "# Achieve AT LEAST 70% accuracy on the *validation set* within 10 epochs.      #\n",
        "#                                                                              #\n",
        "# Note that you can use the check_accuracy function to evaluate on either      #\n",
        "# the test set or the validation set, by passing either loader_test or         #\n",
        "# loader_val as the second argument to check_accuracy. You should not touch    #\n",
        "# the test set until you have finished your architecture and  hyperparameter   #\n",
        "# tuning, and only run the test set once at the end to report a final value.   #\n",
        "################################################################################\n",
        "\n",
        "\n",
        "# *****START OF YOUR CODE (DO NOT DELETE/MODIFY THIS LINE)*****\n",
        "\n",
        "channel_1 = 64\n",
        "channel_2 = 32\n",
        "\n",
        "learning_rate = 1e-2\n",
        "\n",
        "\n",
        "\n",
        "\n",
        "model = nn.Sequential(\n",
        "            nn.Conv2d(3, channel_1, kernel_size=5, padding=2), # à chaque convolution on prend un maxpooling et la batchnorm\n",
        "            nn.BatchNorm2d(channel_1),\n",
        "            nn.ReLU(),\n",
        "            nn.MaxPool2d(2), # output: channel_1 x 16 x 16\n",
        "\n",
        "\n",
        "            nn.Conv2d(channel_1, channel_2 * 2, kernel_size=3, padding=1),\n",
        "            nn.BatchNorm2d(channel_2 * 2),\n",
        "            nn.ReLU(),\n",
        "            nn.MaxPool2d(2, 2), # output: channel_2 x 2 x 8 x 8\n",
        "\n",
        "            nn.Conv2d(channel_2 * 2, channel_2 * 4, kernel_size=3, padding=1),\n",
        "            nn.BatchNorm2d(channel_2 * 4),\n",
        "            nn.ReLU(),\n",
        "            nn.MaxPool2d(2, 2), # output: channel_2 x 4 x 4 x 4\n",
        "\n",
        "            nn.Conv2d(channel_2 * 4, channel_2 * 8, kernel_size=3, padding=1),\n",
        "            nn.BatchNorm2d(channel_2 * 8),\n",
        "            nn.ReLU(),\n",
        "\n",
        "\n",
        "            nn.Flatten(), # à la fin on prend une couche linéaire en plus pour utiliser la batchnorm en dimension 1\n",
        "            nn.Linear( channel_2 * 8 * 4 * 4, 1024),\n",
        "            nn.BatchNorm1d(1024),\n",
        "            nn.ReLU(),\n",
        "            nn.Linear(1024, 10)\n",
        ")\n",
        "\n",
        "\n",
        "\n",
        "\n",
        "\n",
        "optimizer = optim.SGD(model.parameters(), lr=learning_rate,\n",
        "                     momentum=0.9, nesterov=True)\n",
        "\n",
        "\n",
        "# *****END OF YOUR CODE (DO NOT DELETE/MODIFY THIS LINE)*****\n",
        "################################################################################\n",
        "#                                 END OF YOUR CODE\n",
        "################################################################################\n",
        "\n",
        "# You should get at least 70% accuracy\n",
        "loss_train, loss_val = train_module(model, optimizer, epochs=10)\n",
        "fig, ax = plt.subplots(figsize=(11, 6))\n",
        "x = sorted(loss_train.keys())\n",
        "y = [loss_train[e] for e in x]\n",
        "ax.plot(x, y, label='loss')\n",
        "ax.legend()\n",
        "fig.show()\n"
      ],
      "execution_count": null,
      "outputs": [
        {
          "output_type": "stream",
          "name": "stdout",
          "text": [
            "Iteration 0, loss = 2.3199\n",
            "Checking accuracy on validation set\n",
            "Got 124 / 1000 correct (12.40)\n",
            "\n",
            "Iteration 100, loss = 1.2379\n",
            "Checking accuracy on validation set\n",
            "Got 496 / 1000 correct (49.60)\n",
            "\n",
            "Iteration 200, loss = 1.1314\n",
            "Checking accuracy on validation set\n",
            "Got 538 / 1000 correct (53.80)\n",
            "\n",
            "Iteration 300, loss = 0.9965\n",
            "Checking accuracy on validation set\n",
            "Got 570 / 1000 correct (57.00)\n",
            "\n",
            "Iteration 400, loss = 1.0394\n",
            "Checking accuracy on validation set\n",
            "Got 624 / 1000 correct (62.40)\n",
            "\n",
            "Iteration 500, loss = 1.1579\n",
            "Checking accuracy on validation set\n",
            "Got 652 / 1000 correct (65.20)\n",
            "\n",
            "Iteration 600, loss = 1.0017\n",
            "Checking accuracy on validation set\n",
            "Got 631 / 1000 correct (63.10)\n",
            "\n",
            "Iteration 700, loss = 0.9101\n",
            "Checking accuracy on validation set\n",
            "Got 687 / 1000 correct (68.70)\n",
            "\n",
            "Iteration 0, loss = 0.7084\n",
            "Checking accuracy on validation set\n",
            "Got 678 / 1000 correct (67.80)\n",
            "\n",
            "Iteration 100, loss = 0.6194\n",
            "Checking accuracy on validation set\n",
            "Got 680 / 1000 correct (68.00)\n",
            "\n",
            "Iteration 200, loss = 0.7416\n",
            "Checking accuracy on validation set\n",
            "Got 670 / 1000 correct (67.00)\n",
            "\n",
            "Iteration 300, loss = 0.5836\n",
            "Checking accuracy on validation set\n",
            "Got 701 / 1000 correct (70.10)\n",
            "\n",
            "Iteration 400, loss = 0.6824\n",
            "Checking accuracy on validation set\n",
            "Got 718 / 1000 correct (71.80)\n",
            "\n",
            "Iteration 500, loss = 0.6017\n",
            "Checking accuracy on validation set\n",
            "Got 729 / 1000 correct (72.90)\n",
            "\n",
            "Iteration 600, loss = 0.4670\n",
            "Checking accuracy on validation set\n",
            "Got 727 / 1000 correct (72.70)\n",
            "\n",
            "Iteration 700, loss = 0.8134\n",
            "Checking accuracy on validation set\n",
            "Got 726 / 1000 correct (72.60)\n",
            "\n",
            "Iteration 0, loss = 0.6883\n",
            "Checking accuracy on validation set\n",
            "Got 748 / 1000 correct (74.80)\n",
            "\n",
            "Iteration 100, loss = 0.4644\n",
            "Checking accuracy on validation set\n",
            "Got 740 / 1000 correct (74.00)\n",
            "\n",
            "Iteration 200, loss = 0.6638\n",
            "Checking accuracy on validation set\n",
            "Got 776 / 1000 correct (77.60)\n",
            "\n",
            "Iteration 300, loss = 0.6474\n",
            "Checking accuracy on validation set\n",
            "Got 709 / 1000 correct (70.90)\n",
            "\n",
            "Iteration 400, loss = 0.6934\n",
            "Checking accuracy on validation set\n",
            "Got 761 / 1000 correct (76.10)\n",
            "\n",
            "Iteration 500, loss = 0.5132\n",
            "Checking accuracy on validation set\n",
            "Got 726 / 1000 correct (72.60)\n",
            "\n",
            "Iteration 600, loss = 0.8859\n",
            "Checking accuracy on validation set\n",
            "Got 755 / 1000 correct (75.50)\n",
            "\n",
            "Iteration 700, loss = 0.5129\n",
            "Checking accuracy on validation set\n",
            "Got 754 / 1000 correct (75.40)\n",
            "\n",
            "Iteration 0, loss = 0.4495\n",
            "Checking accuracy on validation set\n",
            "Got 751 / 1000 correct (75.10)\n",
            "\n",
            "Iteration 100, loss = 0.3035\n",
            "Checking accuracy on validation set\n",
            "Got 787 / 1000 correct (78.70)\n",
            "\n",
            "Iteration 200, loss = 0.3184\n",
            "Checking accuracy on validation set\n",
            "Got 760 / 1000 correct (76.00)\n",
            "\n",
            "Iteration 300, loss = 0.3107\n",
            "Checking accuracy on validation set\n",
            "Got 784 / 1000 correct (78.40)\n",
            "\n",
            "Iteration 400, loss = 0.4111\n",
            "Checking accuracy on validation set\n",
            "Got 769 / 1000 correct (76.90)\n",
            "\n",
            "Iteration 500, loss = 0.5280\n",
            "Checking accuracy on validation set\n",
            "Got 782 / 1000 correct (78.20)\n",
            "\n",
            "Iteration 600, loss = 0.7536\n",
            "Checking accuracy on validation set\n",
            "Got 769 / 1000 correct (76.90)\n",
            "\n",
            "Iteration 700, loss = 0.5784\n",
            "Checking accuracy on validation set\n",
            "Got 750 / 1000 correct (75.00)\n",
            "\n",
            "Iteration 0, loss = 0.2446\n",
            "Checking accuracy on validation set\n",
            "Got 760 / 1000 correct (76.00)\n",
            "\n",
            "Iteration 100, loss = 0.5114\n",
            "Checking accuracy on validation set\n",
            "Got 786 / 1000 correct (78.60)\n",
            "\n",
            "Iteration 200, loss = 0.3814\n",
            "Checking accuracy on validation set\n",
            "Got 793 / 1000 correct (79.30)\n",
            "\n",
            "Iteration 300, loss = 0.1930\n",
            "Checking accuracy on validation set\n",
            "Got 777 / 1000 correct (77.70)\n",
            "\n",
            "Iteration 400, loss = 0.6467\n",
            "Checking accuracy on validation set\n",
            "Got 793 / 1000 correct (79.30)\n",
            "\n",
            "Iteration 500, loss = 0.3337\n",
            "Checking accuracy on validation set\n",
            "Got 782 / 1000 correct (78.20)\n",
            "\n",
            "Iteration 600, loss = 0.2857\n",
            "Checking accuracy on validation set\n",
            "Got 781 / 1000 correct (78.10)\n",
            "\n",
            "Iteration 700, loss = 0.6232\n",
            "Checking accuracy on validation set\n",
            "Got 782 / 1000 correct (78.20)\n",
            "\n",
            "Iteration 0, loss = 0.3809\n",
            "Checking accuracy on validation set\n",
            "Got 764 / 1000 correct (76.40)\n",
            "\n",
            "Iteration 100, loss = 0.1737\n",
            "Checking accuracy on validation set\n",
            "Got 810 / 1000 correct (81.00)\n",
            "\n",
            "Iteration 200, loss = 0.1990\n",
            "Checking accuracy on validation set\n",
            "Got 776 / 1000 correct (77.60)\n",
            "\n",
            "Iteration 300, loss = 0.2264\n",
            "Checking accuracy on validation set\n",
            "Got 786 / 1000 correct (78.60)\n",
            "\n",
            "Iteration 400, loss = 0.1086\n",
            "Checking accuracy on validation set\n",
            "Got 792 / 1000 correct (79.20)\n",
            "\n",
            "Iteration 500, loss = 0.1403\n",
            "Checking accuracy on validation set\n",
            "Got 802 / 1000 correct (80.20)\n",
            "\n",
            "Iteration 600, loss = 0.3001\n",
            "Checking accuracy on validation set\n",
            "Got 769 / 1000 correct (76.90)\n",
            "\n",
            "Iteration 700, loss = 0.3647\n",
            "Checking accuracy on validation set\n",
            "Got 790 / 1000 correct (79.00)\n",
            "\n",
            "Iteration 0, loss = 0.1969\n",
            "Checking accuracy on validation set\n",
            "Got 769 / 1000 correct (76.90)\n",
            "\n",
            "Iteration 100, loss = 0.1992\n",
            "Checking accuracy on validation set\n",
            "Got 802 / 1000 correct (80.20)\n",
            "\n",
            "Iteration 200, loss = 0.1974\n",
            "Checking accuracy on validation set\n",
            "Got 798 / 1000 correct (79.80)\n",
            "\n",
            "Iteration 300, loss = 0.1963\n",
            "Checking accuracy on validation set\n",
            "Got 806 / 1000 correct (80.60)\n",
            "\n",
            "Iteration 400, loss = 0.1282\n",
            "Checking accuracy on validation set\n",
            "Got 803 / 1000 correct (80.30)\n",
            "\n",
            "Iteration 500, loss = 0.1398\n",
            "Checking accuracy on validation set\n",
            "Got 800 / 1000 correct (80.00)\n",
            "\n",
            "Iteration 600, loss = 0.3383\n",
            "Checking accuracy on validation set\n",
            "Got 791 / 1000 correct (79.10)\n",
            "\n",
            "Iteration 700, loss = 0.2221\n",
            "Checking accuracy on validation set\n",
            "Got 781 / 1000 correct (78.10)\n",
            "\n",
            "Iteration 0, loss = 0.1812\n",
            "Checking accuracy on validation set\n",
            "Got 794 / 1000 correct (79.40)\n",
            "\n",
            "Iteration 100, loss = 0.0450\n",
            "Checking accuracy on validation set\n",
            "Got 793 / 1000 correct (79.30)\n",
            "\n",
            "Iteration 200, loss = 0.0705\n",
            "Checking accuracy on validation set\n",
            "Got 793 / 1000 correct (79.30)\n",
            "\n",
            "Iteration 300, loss = 0.0617\n",
            "Checking accuracy on validation set\n",
            "Got 799 / 1000 correct (79.90)\n",
            "\n",
            "Iteration 400, loss = 0.0942\n",
            "Checking accuracy on validation set\n",
            "Got 803 / 1000 correct (80.30)\n",
            "\n",
            "Iteration 500, loss = 0.0737\n",
            "Checking accuracy on validation set\n",
            "Got 816 / 1000 correct (81.60)\n",
            "\n",
            "Iteration 600, loss = 0.0821\n",
            "Checking accuracy on validation set\n",
            "Got 783 / 1000 correct (78.30)\n",
            "\n",
            "Iteration 700, loss = 0.1064\n",
            "Checking accuracy on validation set\n",
            "Got 797 / 1000 correct (79.70)\n",
            "\n",
            "Iteration 0, loss = 0.2757\n",
            "Checking accuracy on validation set\n",
            "Got 811 / 1000 correct (81.10)\n",
            "\n",
            "Iteration 100, loss = 0.0313\n",
            "Checking accuracy on validation set\n",
            "Got 803 / 1000 correct (80.30)\n",
            "\n",
            "Iteration 200, loss = 0.0155\n",
            "Checking accuracy on validation set\n",
            "Got 805 / 1000 correct (80.50)\n",
            "\n",
            "Iteration 300, loss = 0.0946\n",
            "Checking accuracy on validation set\n",
            "Got 822 / 1000 correct (82.20)\n",
            "\n",
            "Iteration 400, loss = 0.0241\n",
            "Checking accuracy on validation set\n",
            "Got 803 / 1000 correct (80.30)\n",
            "\n",
            "Iteration 500, loss = 0.0188\n",
            "Checking accuracy on validation set\n",
            "Got 807 / 1000 correct (80.70)\n",
            "\n",
            "Iteration 600, loss = 0.0763\n",
            "Checking accuracy on validation set\n",
            "Got 784 / 1000 correct (78.40)\n",
            "\n",
            "Iteration 700, loss = 0.0834\n",
            "Checking accuracy on validation set\n",
            "Got 790 / 1000 correct (79.00)\n",
            "\n",
            "Iteration 0, loss = 0.0466\n",
            "Checking accuracy on validation set\n",
            "Got 807 / 1000 correct (80.70)\n",
            "\n",
            "Iteration 100, loss = 0.0580\n",
            "Checking accuracy on validation set\n",
            "Got 814 / 1000 correct (81.40)\n",
            "\n",
            "Iteration 200, loss = 0.0471\n",
            "Checking accuracy on validation set\n",
            "Got 807 / 1000 correct (80.70)\n",
            "\n",
            "Iteration 300, loss = 0.0175\n",
            "Checking accuracy on validation set\n",
            "Got 819 / 1000 correct (81.90)\n",
            "\n",
            "Iteration 400, loss = 0.0241\n",
            "Checking accuracy on validation set\n",
            "Got 808 / 1000 correct (80.80)\n",
            "\n",
            "Iteration 500, loss = 0.0407\n",
            "Checking accuracy on validation set\n",
            "Got 816 / 1000 correct (81.60)\n",
            "\n",
            "Iteration 600, loss = 0.0150\n",
            "Checking accuracy on validation set\n",
            "Got 806 / 1000 correct (80.60)\n",
            "\n",
            "Iteration 700, loss = 0.0255\n",
            "Checking accuracy on validation set\n",
            "Got 808 / 1000 correct (80.80)\n",
            "\n"
          ]
        },
        {
          "output_type": "display_data",
          "data": {
            "text/plain": [
              "<Figure size 792x432 with 1 Axes>"
            ],
            "image/png": "[encoded data removed]"
          },
          "metadata": {
            "needs_background": "light"
          }
        }
      ]
    },
    {
      "cell_type": "markdown",
      "metadata": {
        "id": "-QroWdhgASU2",
        "tags": [
          "pdf-inline"
        ]
      },
      "source": [
        "## Describe what you did\n",
        "\n",
        "In the cell below you should write an explanation of what you did, any additional features that you implemented, and/or any graphs that you made in the process of training and evaluating your network."
      ]
    },
    {
      "cell_type": "markdown",
      "metadata": {
        "id": "awLoCuu0ASU2",
        "tags": [
          "pdf-inline"
        ]
      },
      "source": [
        "J'ai essayé les modifications qui étaient conseillées dans l'ordre.\n",
        "\n",
        "Tout d'abord j'ai voulu modifier la taille du filtre 5x5 de la première convolution mais je n'ai pas trouvé de différence significative avec un 3x3 par exemple.\n",
        "\n",
        "Par contre, j'ai constaté une amélioration en augmentant le nombre de filters, et ainsi j'ai à chaque channel doublé le nombre de filtres.\n",
        "\n",
        "De plus, j'ai essayé d'ajouter du maxpooling après la première convolution et j'ai constaté une légère amélioration, mais qui ne permettait pas de passer la barre des 70% de précision.\n",
        "\n",
        "Le gros changement a été d'introduire des batch normalisations après les convolutions et la couche affine, ce qui a significativement augmenté la précision après 10 epochs et a acceleré la convergence vers une bonne précision. Pour ajouter cette normalisation dans la couche linéaire, j'ai ajouté une couche linéaire intermédiaire de taille un multiple de 2 (ici 1024 car les résultats avec cela étaient satisfaisants), et j'ai appliqué la normalisation après cette couche.\n",
        "\n",
        "\n",
        "À ce stade, je n'avais pas beaucoup modifié l'architecture globale, on avait toujours une convolution et un ReLU suivie d'une autre convolution et d'un ReLU, puis enfin de deux couches linéaires. J'avais seulement ajouté les normalisations et le maxpooling après la première convolution.\n",
        "\n",
        "Durant ces étapes j'ai pu éprouver ma compréhension des convolutions car j'ai eu beaucoup de mal à bien régler les dimensions, par exemple en modifiant la taille du noyau d'une convolution, ou en cherchant comment adapter les couches suivantes à un maxpooling de noyau 2. J'ai trouvé des explications qui conseillaient d'augmenter la taille de la channel de sortie aorès un maxpooling, c'est ce que j'ai fait avec les multiplications par 2, et j'ai constaté que cela marchait un peu mieux.\n",
        "\n",
        "Enfin, j'ai compris qu'ajouter un maxpooling (de noyau 2) divisait la taille de l'image par 2, et ainsi j'ai souhaité essayer d'enchainer plusieurs maxpooling pour réduire la taille des images au fur et à mesure. Je suis arrivé à un modèle qui me satisfait et qui obtient un score autour de 80% sur le validation set, et c'est donc celui que j'ai gardé. Je suis conscient de n'avoir pas essayé tout ce qui est conseillé mais je me suis rendu compte de certaines limitations dans ma compréhension et j'ai souhaité me limiter à un modèle que je comprenait assez bien.\n",
        "\n",
        "\n",
        "\n"
      ]
    },
    {
      "cell_type": "markdown",
      "metadata": {
        "id": "IubJoAptASU4"
      },
      "source": [
        "## Test set -- run this only once\n",
        "\n",
        "Now that we've gotten a result we're happy with, we test our final model on the test set (which you should store in best_model). Think about how this compares to your validation set accuracy."
      ]
    },
    {
      "cell_type": "code",
      "metadata": {
        "id": "Y_9lW7PhASU4",
        "colab": {
          "base_uri": "https://localhost:8080/"
        },
        "outputId": "c4274d51-55dd-4ddd-a2d7-3e7ae29fdca5"
      },
      "source": [
        "best_model = model\n",
        "check_accuracy(loader_test, best_model)"
      ],
      "execution_count": null,
      "outputs": [
        {
          "output_type": "stream",
          "name": "stdout",
          "text": [
            "Checking accuracy on test set\n",
            "Got 8043 / 10000 correct (80.43)\n"
          ]
        }
      ]
    },
    {
      "cell_type": "code",
      "source": [
        "%%shell\n",
        "jupyter nbconvert --to html /content/tp2_nn_torch.ipynb"
      ],
      "metadata": {
        "colab": {
          "base_uri": "https://localhost:8080/"
        },
        "id": "TVtjbPbWA1VW",
        "outputId": "8e310380-be8f-4b5a-f7b1-22ffaaea0d1b"
      },
      "execution_count": null,
      "outputs": [
        {
          "output_type": "stream",
          "name": "stdout",
          "text": [
            "[NbConvertApp] Converting notebook /content/tp2_nn_torch.ipynb to html\n",
            "[NbConvertApp] Writing 965677 bytes to /content/tp2_nn_torch.html\n"
          ]
        },
        {
          "output_type": "execute_result",
          "data": {
            "text/plain": []
          },
          "metadata": {},
          "execution_count": 29
        }
      ]
    }
  ]
}